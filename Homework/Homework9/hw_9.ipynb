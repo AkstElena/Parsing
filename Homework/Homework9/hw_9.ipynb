{
 "cells": [
  {
   "cell_type": "code",
   "execution_count": 1,
   "metadata": {
    "collapsed": true,
    "ExecuteTime": {
     "start_time": "2024-08-15T16:00:17.031166Z",
     "end_time": "2024-08-15T16:00:17.647726Z"
    }
   },
   "outputs": [],
   "source": [
    "import pandas as pd"
   ]
  },
  {
   "cell_type": "markdown",
   "source": [
    "Загружаем датасет: Изучение настроений покупателей в McDonald's Отзывы о магазине в США\n",
    "https://www.kaggle.com/datasets/nelgiriyewithana/mcdonalds-store-reviews\n",
    "Этот набор данных содержит более 33 000 анонимных отзывов о магазинах McDonald's в Соединенных Штатах, взятых из обзоров Google. Он предоставляет ценную информацию об опыте клиентов и мнениях о различных местах расположения McDonald's по всей стране. Набор данных включает такую информацию, как названия магазинов, категории, адреса, географические координаты, рейтинги отзывов, тексты отзывов и временные метки."
   ],
   "metadata": {
    "collapsed": false
   }
  },
  {
   "cell_type": "code",
   "execution_count": 9,
   "outputs": [],
   "source": [
    "data = pd.read_csv('McDonald_s_Reviews.csv', on_bad_lines='skip', encoding='latin-1')"
   ],
   "metadata": {
    "collapsed": false,
    "ExecuteTime": {
     "start_time": "2024-08-15T16:02:21.082536Z",
     "end_time": "2024-08-15T16:02:21.179560Z"
    }
   }
  },
  {
   "cell_type": "code",
   "execution_count": 10,
   "outputs": [
    {
     "data": {
      "text/plain": "   reviewer_id  store_name              category  \\\n0            1  McDonald's  Fast food restaurant   \n1            2  McDonald's  Fast food restaurant   \n2            3  McDonald's  Fast food restaurant   \n3            4  McDonald's  Fast food restaurant   \n4            5  McDonald's  Fast food restaurant   \n\n                                       store_address  latitude   longitude  \\\n0  13749 US-183 Hwy, Austin, TX 78750, United States  30.460718 -97.792874   \n1  13749 US-183 Hwy, Austin, TX 78750, United States  30.460718 -97.792874   \n2  13749 US-183 Hwy, Austin, TX 78750, United States  30.460718 -97.792874   \n3  13749 US-183 Hwy, Austin, TX 78750, United States  30.460718 -97.792874   \n4  13749 US-183 Hwy, Austin, TX 78750, United States  30.460718 -97.792874   \n\n  rating_count   review_time  \\\n0        1,240  3 months ago   \n1        1,240    5 days ago   \n2        1,240    5 days ago   \n3        1,240   a month ago   \n4        1,240  2 months ago   \n\n                                              review   rating  \n0  Why does it look like someone spit on my food?...   1 star  \n1  It'd McDonalds. It is what it is as far as the...  4 stars  \n2  Made a mobile order got to the speaker and che...   1 star  \n3  My mc. Crispy chicken sandwich was ï¿½ï¿½ï¿½ï¿...  5 stars  \n4  I repeat my order 3 times in the drive thru, a...   1 star  ",
      "text/html": "<div>\n<style scoped>\n    .dataframe tbody tr th:only-of-type {\n        vertical-align: middle;\n    }\n\n    .dataframe tbody tr th {\n        vertical-align: top;\n    }\n\n    .dataframe thead th {\n        text-align: right;\n    }\n</style>\n<table border=\"1\" class=\"dataframe\">\n  <thead>\n    <tr style=\"text-align: right;\">\n      <th></th>\n      <th>reviewer_id</th>\n      <th>store_name</th>\n      <th>category</th>\n      <th>store_address</th>\n      <th>latitude</th>\n      <th>longitude</th>\n      <th>rating_count</th>\n      <th>review_time</th>\n      <th>review</th>\n      <th>rating</th>\n    </tr>\n  </thead>\n  <tbody>\n    <tr>\n      <th>0</th>\n      <td>1</td>\n      <td>McDonald's</td>\n      <td>Fast food restaurant</td>\n      <td>13749 US-183 Hwy, Austin, TX 78750, United States</td>\n      <td>30.460718</td>\n      <td>-97.792874</td>\n      <td>1,240</td>\n      <td>3 months ago</td>\n      <td>Why does it look like someone spit on my food?...</td>\n      <td>1 star</td>\n    </tr>\n    <tr>\n      <th>1</th>\n      <td>2</td>\n      <td>McDonald's</td>\n      <td>Fast food restaurant</td>\n      <td>13749 US-183 Hwy, Austin, TX 78750, United States</td>\n      <td>30.460718</td>\n      <td>-97.792874</td>\n      <td>1,240</td>\n      <td>5 days ago</td>\n      <td>It'd McDonalds. It is what it is as far as the...</td>\n      <td>4 stars</td>\n    </tr>\n    <tr>\n      <th>2</th>\n      <td>3</td>\n      <td>McDonald's</td>\n      <td>Fast food restaurant</td>\n      <td>13749 US-183 Hwy, Austin, TX 78750, United States</td>\n      <td>30.460718</td>\n      <td>-97.792874</td>\n      <td>1,240</td>\n      <td>5 days ago</td>\n      <td>Made a mobile order got to the speaker and che...</td>\n      <td>1 star</td>\n    </tr>\n    <tr>\n      <th>3</th>\n      <td>4</td>\n      <td>McDonald's</td>\n      <td>Fast food restaurant</td>\n      <td>13749 US-183 Hwy, Austin, TX 78750, United States</td>\n      <td>30.460718</td>\n      <td>-97.792874</td>\n      <td>1,240</td>\n      <td>a month ago</td>\n      <td>My mc. Crispy chicken sandwich was ï¿½ï¿½ï¿½ï¿...</td>\n      <td>5 stars</td>\n    </tr>\n    <tr>\n      <th>4</th>\n      <td>5</td>\n      <td>McDonald's</td>\n      <td>Fast food restaurant</td>\n      <td>13749 US-183 Hwy, Austin, TX 78750, United States</td>\n      <td>30.460718</td>\n      <td>-97.792874</td>\n      <td>1,240</td>\n      <td>2 months ago</td>\n      <td>I repeat my order 3 times in the drive thru, a...</td>\n      <td>1 star</td>\n    </tr>\n  </tbody>\n</table>\n</div>"
     },
     "execution_count": 10,
     "metadata": {},
     "output_type": "execute_result"
    }
   ],
   "source": [
    "data.head()"
   ],
   "metadata": {
    "collapsed": false,
    "ExecuteTime": {
     "start_time": "2024-08-15T16:02:23.107007Z",
     "end_time": "2024-08-15T16:02:23.132065Z"
    }
   }
  },
  {
   "cell_type": "code",
   "execution_count": 24,
   "outputs": [],
   "source": [
    "hand_marked_data = data.sample(frac=0.01)  # для ручной разметки файл"
   ],
   "metadata": {
    "collapsed": false,
    "ExecuteTime": {
     "start_time": "2024-08-15T16:29:59.688993Z",
     "end_time": "2024-08-15T16:29:59.712964Z"
    }
   }
  },
  {
   "cell_type": "code",
   "execution_count": 25,
   "outputs": [],
   "source": [
    "hand_marked_data.to_csv('review.csv', index=False)"
   ],
   "metadata": {
    "collapsed": false,
    "ExecuteTime": {
     "start_time": "2024-08-15T16:30:01.243144Z",
     "end_time": "2024-08-15T16:30:01.264830Z"
    }
   }
  },
  {
   "cell_type": "markdown",
   "source": [
    "Создаем метки для ручной разметки в LabelStudio\n",
    "![Создаем метки для ручной разметки в LabelStudio](img1.png)"
   ],
   "metadata": {
    "collapsed": false
   }
  },
  {
   "cell_type": "markdown",
   "source": [
    "Ручная разметка\n",
    "![Создаем метки для ручной разметки в LabelStudio](img2.png)"
   ],
   "metadata": {
    "collapsed": false
   }
  },
  {
   "cell_type": "markdown",
   "source": [
    "Затем экспортируем файл из Label Studio"
   ],
   "metadata": {
    "collapsed": false
   }
  },
  {
   "cell_type": "markdown",
   "source": [
    "Создаем функцию разметки текста на основе содержания определенных слов"
   ],
   "metadata": {
    "collapsed": false
   }
  },
  {
   "cell_type": "code",
   "execution_count": 26,
   "outputs": [],
   "source": [
    "def rule_based_labeling(text):\n",
    "    positive_keywords = ['good', 'great', 'excellent', 'positive', 'joy', 'happy', 'yammy', 'tasty', 'delicious', 'fresh', 'cleanly']\n",
    "    negative_keywords = ['bad', 'terrible', 'disappointed', 'negative', 'problem', 'sad', 'dirty', 'burnt', 'burn', 'old', 'dry', 'stale']\n",
    "\n",
    "    text = text.lower()\n",
    "    if any(keyword in text for keyword in positive_keywords):\n",
    "        return 'positive'\n",
    "    elif any(keyword in text for keyword in negative_keywords):\n",
    "        return 'negative'\n",
    "    else:\n",
    "        return 'neutral'"
   ],
   "metadata": {
    "collapsed": false,
    "ExecuteTime": {
     "start_time": "2024-08-15T16:51:55.065623Z",
     "end_time": "2024-08-15T16:51:55.075628Z"
    }
   }
  },
  {
   "cell_type": "markdown",
   "source": [
    "Применяем разметку на основе правил к датасету"
   ],
   "metadata": {
    "collapsed": false
   }
  },
  {
   "cell_type": "code",
   "execution_count": 27,
   "outputs": [],
   "source": [
    "# marked_data = data.sample(frac=0.2)  # взятие 20% от всего датасета\n",
    "marked_data = data  # ко всему блоку применяем автоматическую разметку\n",
    "marked_data['sentiment'] = marked_data['review'].apply(rule_based_labeling)"
   ],
   "metadata": {
    "collapsed": false,
    "ExecuteTime": {
     "start_time": "2024-08-15T16:58:34.599537Z",
     "end_time": "2024-08-15T16:58:34.720283Z"
    }
   }
  },
  {
   "cell_type": "code",
   "execution_count": 28,
   "outputs": [
    {
     "data": {
      "text/plain": "   reviewer_id  store_name              category  \\\n0            1  McDonald's  Fast food restaurant   \n1            2  McDonald's  Fast food restaurant   \n2            3  McDonald's  Fast food restaurant   \n3            4  McDonald's  Fast food restaurant   \n4            5  McDonald's  Fast food restaurant   \n\n                                       store_address  latitude   longitude  \\\n0  13749 US-183 Hwy, Austin, TX 78750, United States  30.460718 -97.792874   \n1  13749 US-183 Hwy, Austin, TX 78750, United States  30.460718 -97.792874   \n2  13749 US-183 Hwy, Austin, TX 78750, United States  30.460718 -97.792874   \n3  13749 US-183 Hwy, Austin, TX 78750, United States  30.460718 -97.792874   \n4  13749 US-183 Hwy, Austin, TX 78750, United States  30.460718 -97.792874   \n\n  rating_count   review_time  \\\n0        1,240  3 months ago   \n1        1,240    5 days ago   \n2        1,240    5 days ago   \n3        1,240   a month ago   \n4        1,240  2 months ago   \n\n                                              review   rating sentiment  \n0  Why does it look like someone spit on my food?...   1 star   neutral  \n1  It'd McDonalds. It is what it is as far as the...  4 stars   neutral  \n2  Made a mobile order got to the speaker and che...   1 star  negative  \n3  My mc. Crispy chicken sandwich was ï¿½ï¿½ï¿½ï¿...  5 stars   neutral  \n4  I repeat my order 3 times in the drive thru, a...   1 star   neutral  ",
      "text/html": "<div>\n<style scoped>\n    .dataframe tbody tr th:only-of-type {\n        vertical-align: middle;\n    }\n\n    .dataframe tbody tr th {\n        vertical-align: top;\n    }\n\n    .dataframe thead th {\n        text-align: right;\n    }\n</style>\n<table border=\"1\" class=\"dataframe\">\n  <thead>\n    <tr style=\"text-align: right;\">\n      <th></th>\n      <th>reviewer_id</th>\n      <th>store_name</th>\n      <th>category</th>\n      <th>store_address</th>\n      <th>latitude</th>\n      <th>longitude</th>\n      <th>rating_count</th>\n      <th>review_time</th>\n      <th>review</th>\n      <th>rating</th>\n      <th>sentiment</th>\n    </tr>\n  </thead>\n  <tbody>\n    <tr>\n      <th>0</th>\n      <td>1</td>\n      <td>McDonald's</td>\n      <td>Fast food restaurant</td>\n      <td>13749 US-183 Hwy, Austin, TX 78750, United States</td>\n      <td>30.460718</td>\n      <td>-97.792874</td>\n      <td>1,240</td>\n      <td>3 months ago</td>\n      <td>Why does it look like someone spit on my food?...</td>\n      <td>1 star</td>\n      <td>neutral</td>\n    </tr>\n    <tr>\n      <th>1</th>\n      <td>2</td>\n      <td>McDonald's</td>\n      <td>Fast food restaurant</td>\n      <td>13749 US-183 Hwy, Austin, TX 78750, United States</td>\n      <td>30.460718</td>\n      <td>-97.792874</td>\n      <td>1,240</td>\n      <td>5 days ago</td>\n      <td>It'd McDonalds. It is what it is as far as the...</td>\n      <td>4 stars</td>\n      <td>neutral</td>\n    </tr>\n    <tr>\n      <th>2</th>\n      <td>3</td>\n      <td>McDonald's</td>\n      <td>Fast food restaurant</td>\n      <td>13749 US-183 Hwy, Austin, TX 78750, United States</td>\n      <td>30.460718</td>\n      <td>-97.792874</td>\n      <td>1,240</td>\n      <td>5 days ago</td>\n      <td>Made a mobile order got to the speaker and che...</td>\n      <td>1 star</td>\n      <td>negative</td>\n    </tr>\n    <tr>\n      <th>3</th>\n      <td>4</td>\n      <td>McDonald's</td>\n      <td>Fast food restaurant</td>\n      <td>13749 US-183 Hwy, Austin, TX 78750, United States</td>\n      <td>30.460718</td>\n      <td>-97.792874</td>\n      <td>1,240</td>\n      <td>a month ago</td>\n      <td>My mc. Crispy chicken sandwich was ï¿½ï¿½ï¿½ï¿...</td>\n      <td>5 stars</td>\n      <td>neutral</td>\n    </tr>\n    <tr>\n      <th>4</th>\n      <td>5</td>\n      <td>McDonald's</td>\n      <td>Fast food restaurant</td>\n      <td>13749 US-183 Hwy, Austin, TX 78750, United States</td>\n      <td>30.460718</td>\n      <td>-97.792874</td>\n      <td>1,240</td>\n      <td>2 months ago</td>\n      <td>I repeat my order 3 times in the drive thru, a...</td>\n      <td>1 star</td>\n      <td>neutral</td>\n    </tr>\n  </tbody>\n</table>\n</div>"
     },
     "execution_count": 28,
     "metadata": {},
     "output_type": "execute_result"
    }
   ],
   "source": [
    "marked_data.head()"
   ],
   "metadata": {
    "collapsed": false,
    "ExecuteTime": {
     "start_time": "2024-08-15T16:58:37.640777Z",
     "end_time": "2024-08-15T16:58:37.648162Z"
    }
   }
  },
  {
   "cell_type": "code",
   "execution_count": 29,
   "outputs": [],
   "source": [
    "manually_labeled_data = pd.read_csv('review_after_ls.csv')\n",
    "\n",
    "# соединение автоматически размеченных данных с ручной разметкой\n",
    "combined_data = pd.concat([marked_data, manually_labeled_data])"
   ],
   "metadata": {
    "collapsed": false,
    "ExecuteTime": {
     "start_time": "2024-08-15T16:58:45.363981Z",
     "end_time": "2024-08-15T16:58:45.398112Z"
    }
   }
  },
  {
   "cell_type": "code",
   "execution_count": 30,
   "outputs": [],
   "source": [
    "combined_data['sentiment'].fillna('neutral', inplace=True)"
   ],
   "metadata": {
    "collapsed": false,
    "ExecuteTime": {
     "start_time": "2024-08-15T16:58:49.095209Z",
     "end_time": "2024-08-15T16:58:49.102736Z"
    }
   }
  },
  {
   "cell_type": "code",
   "execution_count": 31,
   "outputs": [
    {
     "name": "stderr",
     "output_type": "stream",
     "text": [
      "C:\\Users\\akste\\AppData\\Roaming\\Python\\Python311\\site-packages\\sklearn\\linear_model\\_logistic.py:460: ConvergenceWarning: lbfgs failed to converge (status=1):\n",
      "STOP: TOTAL NO. of ITERATIONS REACHED LIMIT.\n",
      "\n",
      "Increase the number of iterations (max_iter) or scale the data as shown in:\n",
      "    https://scikit-learn.org/stable/modules/preprocessing.html\n",
      "Please also refer to the documentation for alternative solver options:\n",
      "    https://scikit-learn.org/stable/modules/linear_model.html#logistic-regression\n",
      "  n_iter_i = _check_optimize_result(\n"
     ]
    },
    {
     "data": {
      "text/plain": "LogisticRegression()",
      "text/html": "<style>#sk-container-id-1 {color: black;}#sk-container-id-1 pre{padding: 0;}#sk-container-id-1 div.sk-toggleable {background-color: white;}#sk-container-id-1 label.sk-toggleable__label {cursor: pointer;display: block;width: 100%;margin-bottom: 0;padding: 0.3em;box-sizing: border-box;text-align: center;}#sk-container-id-1 label.sk-toggleable__label-arrow:before {content: \"▸\";float: left;margin-right: 0.25em;color: #696969;}#sk-container-id-1 label.sk-toggleable__label-arrow:hover:before {color: black;}#sk-container-id-1 div.sk-estimator:hover label.sk-toggleable__label-arrow:before {color: black;}#sk-container-id-1 div.sk-toggleable__content {max-height: 0;max-width: 0;overflow: hidden;text-align: left;background-color: #f0f8ff;}#sk-container-id-1 div.sk-toggleable__content pre {margin: 0.2em;color: black;border-radius: 0.25em;background-color: #f0f8ff;}#sk-container-id-1 input.sk-toggleable__control:checked~div.sk-toggleable__content {max-height: 200px;max-width: 100%;overflow: auto;}#sk-container-id-1 input.sk-toggleable__control:checked~label.sk-toggleable__label-arrow:before {content: \"▾\";}#sk-container-id-1 div.sk-estimator input.sk-toggleable__control:checked~label.sk-toggleable__label {background-color: #d4ebff;}#sk-container-id-1 div.sk-label input.sk-toggleable__control:checked~label.sk-toggleable__label {background-color: #d4ebff;}#sk-container-id-1 input.sk-hidden--visually {border: 0;clip: rect(1px 1px 1px 1px);clip: rect(1px, 1px, 1px, 1px);height: 1px;margin: -1px;overflow: hidden;padding: 0;position: absolute;width: 1px;}#sk-container-id-1 div.sk-estimator {font-family: monospace;background-color: #f0f8ff;border: 1px dotted black;border-radius: 0.25em;box-sizing: border-box;margin-bottom: 0.5em;}#sk-container-id-1 div.sk-estimator:hover {background-color: #d4ebff;}#sk-container-id-1 div.sk-parallel-item::after {content: \"\";width: 100%;border-bottom: 1px solid gray;flex-grow: 1;}#sk-container-id-1 div.sk-label:hover label.sk-toggleable__label {background-color: #d4ebff;}#sk-container-id-1 div.sk-serial::before {content: \"\";position: absolute;border-left: 1px solid gray;box-sizing: border-box;top: 0;bottom: 0;left: 50%;z-index: 0;}#sk-container-id-1 div.sk-serial {display: flex;flex-direction: column;align-items: center;background-color: white;padding-right: 0.2em;padding-left: 0.2em;position: relative;}#sk-container-id-1 div.sk-item {position: relative;z-index: 1;}#sk-container-id-1 div.sk-parallel {display: flex;align-items: stretch;justify-content: center;background-color: white;position: relative;}#sk-container-id-1 div.sk-item::before, #sk-container-id-1 div.sk-parallel-item::before {content: \"\";position: absolute;border-left: 1px solid gray;box-sizing: border-box;top: 0;bottom: 0;left: 50%;z-index: -1;}#sk-container-id-1 div.sk-parallel-item {display: flex;flex-direction: column;z-index: 1;position: relative;background-color: white;}#sk-container-id-1 div.sk-parallel-item:first-child::after {align-self: flex-end;width: 50%;}#sk-container-id-1 div.sk-parallel-item:last-child::after {align-self: flex-start;width: 50%;}#sk-container-id-1 div.sk-parallel-item:only-child::after {width: 0;}#sk-container-id-1 div.sk-dashed-wrapped {border: 1px dashed gray;margin: 0 0.4em 0.5em 0.4em;box-sizing: border-box;padding-bottom: 0.4em;background-color: white;}#sk-container-id-1 div.sk-label label {font-family: monospace;font-weight: bold;display: inline-block;line-height: 1.2em;}#sk-container-id-1 div.sk-label-container {text-align: center;}#sk-container-id-1 div.sk-container {/* jupyter's `normalize.less` sets `[hidden] { display: none; }` but bootstrap.min.css set `[hidden] { display: none !important; }` so we also need the `!important` here to be able to override the default hidden behavior on the sphinx rendered scikit-learn.org. See: https://github.com/scikit-learn/scikit-learn/issues/21755 */display: inline-block !important;position: relative;}#sk-container-id-1 div.sk-text-repr-fallback {display: none;}</style><div id=\"sk-container-id-1\" class=\"sk-top-container\"><div class=\"sk-text-repr-fallback\"><pre>LogisticRegression()</pre><b>In a Jupyter environment, please rerun this cell to show the HTML representation or trust the notebook. <br />On GitHub, the HTML representation is unable to render, please try loading this page with nbviewer.org.</b></div><div class=\"sk-container\" hidden><div class=\"sk-item\"><div class=\"sk-estimator sk-toggleable\"><input class=\"sk-toggleable__control sk-hidden--visually\" id=\"sk-estimator-id-1\" type=\"checkbox\" checked><label for=\"sk-estimator-id-1\" class=\"sk-toggleable__label sk-toggleable__label-arrow\">LogisticRegression</label><div class=\"sk-toggleable__content\"><pre>LogisticRegression()</pre></div></div></div></div></div>"
     },
     "execution_count": 31,
     "metadata": {},
     "output_type": "execute_result"
    }
   ],
   "source": [
    "from sklearn.feature_extraction.text import TfidfVectorizer\n",
    "from sklearn.linear_model import LogisticRegression\n",
    "from sklearn.model_selection import train_test_split  # основная задача разделить данные на две части: одна для обучения модели, другая дла проверки эффективности\n",
    "\n",
    "x = combined_data['review']\n",
    "y = combined_data['sentiment']\n",
    "\n",
    "\n",
    "vectorizer = TfidfVectorizer()\n",
    "x_vectorized = vectorizer.fit_transform(x)\n",
    "\n",
    "# Разделяем данные на обучающую и тестовую выборку\n",
    "x_train, x_test, y_train, y_test = train_test_split(x_vectorized, y, test_size=0.2, random_state=42)\n",
    "\n",
    "# создание и обучение модели логистической регрессии\n",
    "model = LogisticRegression()\n",
    "model.fit(x_train, y_train)\n"
   ],
   "metadata": {
    "collapsed": false,
    "ExecuteTime": {
     "start_time": "2024-08-15T16:59:02.431167Z",
     "end_time": "2024-08-15T16:59:05.526203Z"
    }
   }
  },
  {
   "cell_type": "code",
   "execution_count": 32,
   "outputs": [
    {
     "name": "stdout",
     "output_type": "stream",
     "text": [
      "Точность модели: 0.9523026315789473\n"
     ]
    }
   ],
   "source": [
    "from sklearn.metrics import accuracy_score\n",
    "\n",
    "# Оценка модели\n",
    "# Прогнозирование меток для тестовых данных:\n",
    "y_test_predicted = model.predict(x_test)\n",
    "\n",
    "# Оценка точности модели\n",
    "accuracy = accuracy_score(y_test, y_test_predicted)\n",
    "print(f'Точность модели: {accuracy}')"
   ],
   "metadata": {
    "collapsed": false,
    "ExecuteTime": {
     "start_time": "2024-08-15T16:59:10.564264Z",
     "end_time": "2024-08-15T16:59:10.574682Z"
    }
   }
  },
  {
   "cell_type": "markdown",
   "source": [
    "Точность модели составила 95%"
   ],
   "metadata": {
    "collapsed": false
   }
  }
 ],
 "metadata": {
  "kernelspec": {
   "display_name": "Python 3",
   "language": "python",
   "name": "python3"
  },
  "language_info": {
   "codemirror_mode": {
    "name": "ipython",
    "version": 2
   },
   "file_extension": ".py",
   "mimetype": "text/x-python",
   "name": "python",
   "nbconvert_exporter": "python",
   "pygments_lexer": "ipython2",
   "version": "2.7.6"
  }
 },
 "nbformat": 4,
 "nbformat_minor": 0
}
