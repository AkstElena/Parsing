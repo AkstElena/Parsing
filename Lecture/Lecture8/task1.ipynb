{
 "nbformat": 4,
 "nbformat_minor": 0,
 "metadata": {
  "colab": {
   "provenance": [],
   "authorship_tag": "ABX9TyNK22d9GVc0p9AHUWLyhbI8"
  },
  "kernelspec": {
   "name": "python3",
   "language": "python",
   "display_name": "Python 3 (ipykernel)"
  },
  "language_info": {
   "name": "python"
  }
 },
 "cells": [
  {
   "cell_type": "code",
   "execution_count": 1,
   "metadata": {
    "id": "ijcsdsNxO1i3",
    "executionInfo": {
     "status": "ok",
     "timestamp": 1680856373844,
     "user_tz": -180,
     "elapsed": 1258,
     "user": {
      "displayName": "Петр Рубин",
      "userId": "04613233041024729335"
     }
    },
    "ExecuteTime": {
     "start_time": "2024-08-11T17:25:00.740788Z",
     "end_time": "2024-08-11T17:25:01.338420Z"
    }
   },
   "outputs": [],
   "source": [
    "# Импорт необходимых библиотек\n",
    "import pandas as pd\n",
    "import numpy as np"
   ]
  },
  {
   "cell_type": "code",
   "source": [
    "# Загрузка датасета \"Титаник\n",
    "df = pd.read_csv('train.csv')"
   ],
   "metadata": {
    "id": "QelLYLoFQvx3",
    "executionInfo": {
     "status": "ok",
     "timestamp": 1680856394878,
     "user_tz": -180,
     "elapsed": 332,
     "user": {
      "displayName": "Петр Рубин",
      "userId": "04613233041024729335"
     }
    },
    "ExecuteTime": {
     "start_time": "2024-08-11T17:25:03.782847Z",
     "end_time": "2024-08-11T17:25:03.824027Z"
    }
   },
   "execution_count": 2,
   "outputs": []
  },
  {
   "cell_type": "code",
   "source": [
    "df.head()"
   ],
   "metadata": {
    "colab": {
     "base_uri": "https://localhost:8080/",
     "height": 206
    },
    "id": "grl9kf5oxSZ3",
    "executionInfo": {
     "status": "ok",
     "timestamp": 1680856406199,
     "user_tz": -180,
     "elapsed": 372,
     "user": {
      "displayName": "Петр Рубин",
      "userId": "04613233041024729335"
     }
    },
    "outputId": "9577b077-cfd2-4f4e-8d07-5759f07c0575",
    "ExecuteTime": {
     "start_time": "2024-08-11T17:25:15.109108Z",
     "end_time": "2024-08-11T17:25:15.136019Z"
    }
   },
   "execution_count": 3,
   "outputs": [
    {
     "data": {
      "text/plain": "   PassengerId  Survived  Pclass  \\\n0            1         0       3   \n1            2         1       1   \n2            3         1       3   \n3            4         1       1   \n4            5         0       3   \n\n                                                Name     Sex   Age  SibSp  \\\n0                            Braund, Mr. Owen Harris    male  22.0      1   \n1  Cumings, Mrs. John Bradley (Florence Briggs Th...  female  38.0      1   \n2                             Heikkinen, Miss. Laina  female  26.0      0   \n3       Futrelle, Mrs. Jacques Heath (Lily May Peel)  female  35.0      1   \n4                           Allen, Mr. William Henry    male  35.0      0   \n\n   Parch            Ticket     Fare Cabin Embarked  \n0      0         A/5 21171   7.2500   NaN        S  \n1      0          PC 17599  71.2833   C85        C  \n2      0  STON/O2. 3101282   7.9250   NaN        S  \n3      0            113803  53.1000  C123        S  \n4      0            373450   8.0500   NaN        S  ",
      "text/html": "<div>\n<style scoped>\n    .dataframe tbody tr th:only-of-type {\n        vertical-align: middle;\n    }\n\n    .dataframe tbody tr th {\n        vertical-align: top;\n    }\n\n    .dataframe thead th {\n        text-align: right;\n    }\n</style>\n<table border=\"1\" class=\"dataframe\">\n  <thead>\n    <tr style=\"text-align: right;\">\n      <th></th>\n      <th>PassengerId</th>\n      <th>Survived</th>\n      <th>Pclass</th>\n      <th>Name</th>\n      <th>Sex</th>\n      <th>Age</th>\n      <th>SibSp</th>\n      <th>Parch</th>\n      <th>Ticket</th>\n      <th>Fare</th>\n      <th>Cabin</th>\n      <th>Embarked</th>\n    </tr>\n  </thead>\n  <tbody>\n    <tr>\n      <th>0</th>\n      <td>1</td>\n      <td>0</td>\n      <td>3</td>\n      <td>Braund, Mr. Owen Harris</td>\n      <td>male</td>\n      <td>22.0</td>\n      <td>1</td>\n      <td>0</td>\n      <td>A/5 21171</td>\n      <td>7.2500</td>\n      <td>NaN</td>\n      <td>S</td>\n    </tr>\n    <tr>\n      <th>1</th>\n      <td>2</td>\n      <td>1</td>\n      <td>1</td>\n      <td>Cumings, Mrs. John Bradley (Florence Briggs Th...</td>\n      <td>female</td>\n      <td>38.0</td>\n      <td>1</td>\n      <td>0</td>\n      <td>PC 17599</td>\n      <td>71.2833</td>\n      <td>C85</td>\n      <td>C</td>\n    </tr>\n    <tr>\n      <th>2</th>\n      <td>3</td>\n      <td>1</td>\n      <td>3</td>\n      <td>Heikkinen, Miss. Laina</td>\n      <td>female</td>\n      <td>26.0</td>\n      <td>0</td>\n      <td>0</td>\n      <td>STON/O2. 3101282</td>\n      <td>7.9250</td>\n      <td>NaN</td>\n      <td>S</td>\n    </tr>\n    <tr>\n      <th>3</th>\n      <td>4</td>\n      <td>1</td>\n      <td>1</td>\n      <td>Futrelle, Mrs. Jacques Heath (Lily May Peel)</td>\n      <td>female</td>\n      <td>35.0</td>\n      <td>1</td>\n      <td>0</td>\n      <td>113803</td>\n      <td>53.1000</td>\n      <td>C123</td>\n      <td>S</td>\n    </tr>\n    <tr>\n      <th>4</th>\n      <td>5</td>\n      <td>0</td>\n      <td>3</td>\n      <td>Allen, Mr. William Henry</td>\n      <td>male</td>\n      <td>35.0</td>\n      <td>0</td>\n      <td>0</td>\n      <td>373450</td>\n      <td>8.0500</td>\n      <td>NaN</td>\n      <td>S</td>\n    </tr>\n  </tbody>\n</table>\n</div>"
     },
     "execution_count": 3,
     "metadata": {},
     "output_type": "execute_result"
    }
   ]
  },
  {
   "cell_type": "code",
   "source": [
    "df.info()"
   ],
   "metadata": {
    "colab": {
     "base_uri": "https://localhost:8080/"
    },
    "id": "8bVoO2xMxU24",
    "executionInfo": {
     "status": "ok",
     "timestamp": 1680856437467,
     "user_tz": -180,
     "elapsed": 896,
     "user": {
      "displayName": "Петр Рубин",
      "userId": "04613233041024729335"
     }
    },
    "outputId": "6de90895-b00a-4b1b-b4fa-d904cdfaeafa",
    "ExecuteTime": {
     "start_time": "2024-08-11T17:25:28.789819Z",
     "end_time": "2024-08-11T17:25:28.819576Z"
    }
   },
   "execution_count": 4,
   "outputs": [
    {
     "name": "stdout",
     "output_type": "stream",
     "text": [
      "<class 'pandas.core.frame.DataFrame'>\n",
      "RangeIndex: 891 entries, 0 to 890\n",
      "Data columns (total 12 columns):\n",
      " #   Column       Non-Null Count  Dtype  \n",
      "---  ------       --------------  -----  \n",
      " 0   PassengerId  891 non-null    int64  \n",
      " 1   Survived     891 non-null    int64  \n",
      " 2   Pclass       891 non-null    int64  \n",
      " 3   Name         891 non-null    object \n",
      " 4   Sex          891 non-null    object \n",
      " 5   Age          714 non-null    float64\n",
      " 6   SibSp        891 non-null    int64  \n",
      " 7   Parch        891 non-null    int64  \n",
      " 8   Ticket       891 non-null    object \n",
      " 9   Fare         891 non-null    float64\n",
      " 10  Cabin        204 non-null    object \n",
      " 11  Embarked     889 non-null    object \n",
      "dtypes: float64(2), int64(5), object(5)\n",
      "memory usage: 83.7+ KB\n"
     ]
    }
   ]
  },
  {
   "cell_type": "code",
   "source": [
    "# Проверка того, в каких столбцах отсутствуют значения\n",
    "df.isnull().sum()"
   ],
   "metadata": {
    "colab": {
     "base_uri": "https://localhost:8080/"
    },
    "id": "5kFVr36J29bX",
    "executionInfo": {
     "status": "ok",
     "timestamp": 1680856523587,
     "user_tz": -180,
     "elapsed": 1348,
     "user": {
      "displayName": "Петр Рубин",
      "userId": "04613233041024729335"
     }
    },
    "outputId": "49a426aa-72a8-4cf1-c2f9-d2580db7e0b6",
    "ExecuteTime": {
     "start_time": "2024-08-11T17:25:41.756231Z",
     "end_time": "2024-08-11T17:25:41.780612Z"
    }
   },
   "execution_count": 5,
   "outputs": [
    {
     "data": {
      "text/plain": "PassengerId      0\nSurvived         0\nPclass           0\nName             0\nSex              0\nAge            177\nSibSp            0\nParch            0\nTicket           0\nFare             0\nCabin          687\nEmbarked         2\ndtype: int64"
     },
     "execution_count": 5,
     "metadata": {},
     "output_type": "execute_result"
    }
   ]
  },
  {
   "cell_type": "code",
   "source": [
    "# Заполнение пропущенных значений медианным значением столбца\n",
    "median_age = df['Age'].median()\n",
    "df['Age'] = df['Age'].fillna(median_age)"
   ],
   "metadata": {
    "id": "mmcmPi4b4Yc4",
    "executionInfo": {
     "status": "ok",
     "timestamp": 1680856599848,
     "user_tz": -180,
     "elapsed": 254,
     "user": {
      "displayName": "Петр Рубин",
      "userId": "04613233041024729335"
     }
    },
    "ExecuteTime": {
     "start_time": "2024-08-11T17:26:36.104313Z",
     "end_time": "2024-08-11T17:26:36.118483Z"
    }
   },
   "execution_count": 6,
   "outputs": []
  },
  {
   "cell_type": "code",
   "source": [
    "# Заполнение пропущенных значений в столбце \"Embarked\" наиболее распространенным портом\n",
    "mode_embarked = df['Embarked'].mode()[0]\n",
    "df['Embarked'] = df['Embarked'].fillna(mode_embarked)"
   ],
   "metadata": {
    "id": "cUNcBmuC4-Li",
    "executionInfo": {
     "status": "ok",
     "timestamp": 1680856650064,
     "user_tz": -180,
     "elapsed": 401,
     "user": {
      "displayName": "Петр Рубин",
      "userId": "04613233041024729335"
     }
    },
    "ExecuteTime": {
     "start_time": "2024-08-11T17:26:43.811023Z",
     "end_time": "2024-08-11T17:26:43.834260Z"
    }
   },
   "execution_count": 7,
   "outputs": []
  },
  {
   "cell_type": "code",
   "source": [
    "df.info()"
   ],
   "metadata": {
    "colab": {
     "base_uri": "https://localhost:8080/"
    },
    "id": "Y5myDW0F5gXF",
    "executionInfo": {
     "status": "ok",
     "timestamp": 1680856656992,
     "user_tz": -180,
     "elapsed": 261,
     "user": {
      "displayName": "Петр Рубин",
      "userId": "04613233041024729335"
     }
    },
    "outputId": "810af583-6d46-45cb-dbd1-2ce1eea1e2ab",
    "ExecuteTime": {
     "start_time": "2024-08-11T17:26:46.973756Z",
     "end_time": "2024-08-11T17:26:46.987572Z"
    }
   },
   "execution_count": 8,
   "outputs": [
    {
     "name": "stdout",
     "output_type": "stream",
     "text": [
      "<class 'pandas.core.frame.DataFrame'>\n",
      "RangeIndex: 891 entries, 0 to 890\n",
      "Data columns (total 12 columns):\n",
      " #   Column       Non-Null Count  Dtype  \n",
      "---  ------       --------------  -----  \n",
      " 0   PassengerId  891 non-null    int64  \n",
      " 1   Survived     891 non-null    int64  \n",
      " 2   Pclass       891 non-null    int64  \n",
      " 3   Name         891 non-null    object \n",
      " 4   Sex          891 non-null    object \n",
      " 5   Age          891 non-null    float64\n",
      " 6   SibSp        891 non-null    int64  \n",
      " 7   Parch        891 non-null    int64  \n",
      " 8   Ticket       891 non-null    object \n",
      " 9   Fare         891 non-null    float64\n",
      " 10  Cabin        204 non-null    object \n",
      " 11  Embarked     891 non-null    object \n",
      "dtypes: float64(2), int64(5), object(5)\n",
      "memory usage: 83.7+ KB\n"
     ]
    }
   ]
  },
  {
   "cell_type": "code",
   "source": [
    "duplicates = df.duplicated()\n",
    "duplicates"
   ],
   "metadata": {
    "colab": {
     "base_uri": "https://localhost:8080/"
    },
    "id": "rEpN1qpR6QDa",
    "executionInfo": {
     "status": "ok",
     "timestamp": 1680857057616,
     "user_tz": -180,
     "elapsed": 311,
     "user": {
      "displayName": "Петр Рубин",
      "userId": "04613233041024729335"
     }
    },
    "outputId": "336eda5f-9902-4036-eace-29355ad8dfa0",
    "ExecuteTime": {
     "start_time": "2024-08-11T17:27:30.286794Z",
     "end_time": "2024-08-11T17:27:30.317577Z"
    }
   },
   "execution_count": 9,
   "outputs": [
    {
     "data": {
      "text/plain": "0      False\n1      False\n2      False\n3      False\n4      False\n       ...  \n886    False\n887    False\n888    False\n889    False\n890    False\nLength: 891, dtype: bool"
     },
     "execution_count": 9,
     "metadata": {},
     "output_type": "execute_result"
    }
   ]
  },
  {
   "cell_type": "code",
   "source": [
    "duplicates_df = df[duplicates]\n",
    "duplicates_df"
   ],
   "metadata": {
    "colab": {
     "base_uri": "https://localhost:8080/",
     "height": 49
    },
    "id": "AOeYSAGo9oII",
    "executionInfo": {
     "status": "ok",
     "timestamp": 1680857078491,
     "user_tz": -180,
     "elapsed": 281,
     "user": {
      "displayName": "Петр Рубин",
      "userId": "04613233041024729335"
     }
    },
    "outputId": "c21bec78-8db9-4e4c-e443-7c393580e7b7",
    "ExecuteTime": {
     "start_time": "2024-08-11T17:29:08.301020Z",
     "end_time": "2024-08-11T17:29:08.318451Z"
    }
   },
   "execution_count": 10,
   "outputs": [
    {
     "data": {
      "text/plain": "Empty DataFrame\nColumns: [PassengerId, Survived, Pclass, Name, Sex, Age, SibSp, Parch, Ticket, Fare, Cabin, Embarked]\nIndex: []",
      "text/html": "<div>\n<style scoped>\n    .dataframe tbody tr th:only-of-type {\n        vertical-align: middle;\n    }\n\n    .dataframe tbody tr th {\n        vertical-align: top;\n    }\n\n    .dataframe thead th {\n        text-align: right;\n    }\n</style>\n<table border=\"1\" class=\"dataframe\">\n  <thead>\n    <tr style=\"text-align: right;\">\n      <th></th>\n      <th>PassengerId</th>\n      <th>Survived</th>\n      <th>Pclass</th>\n      <th>Name</th>\n      <th>Sex</th>\n      <th>Age</th>\n      <th>SibSp</th>\n      <th>Parch</th>\n      <th>Ticket</th>\n      <th>Fare</th>\n      <th>Cabin</th>\n      <th>Embarked</th>\n    </tr>\n  </thead>\n  <tbody>\n  </tbody>\n</table>\n</div>"
     },
     "execution_count": 10,
     "metadata": {},
     "output_type": "execute_result"
    }
   ]
  },
  {
   "cell_type": "code",
   "source": [
    "df = df.drop_duplicates()"
   ],
   "metadata": {
    "id": "HK-U47uu-IA0",
    "executionInfo": {
     "status": "ok",
     "timestamp": 1680857106015,
     "user_tz": -180,
     "elapsed": 265,
     "user": {
      "displayName": "Петр Рубин",
      "userId": "04613233041024729335"
     }
    },
    "ExecuteTime": {
     "start_time": "2024-08-11T17:29:12.304096Z",
     "end_time": "2024-08-11T17:29:12.326113Z"
    }
   },
   "execution_count": 11,
   "outputs": []
  },
  {
   "cell_type": "code",
   "source": [
    "# Исправление неправильных значений в колонке \"Sex\"\n",
    "df['Sex'] = df['Sex'].replace('male', 'M')\n",
    "df['Sex'] = df['Sex'].replace('female', 'F')"
   ],
   "metadata": {
    "id": "rKZ5Mfmr_HQn",
    "executionInfo": {
     "status": "ok",
     "timestamp": 1680857192399,
     "user_tz": -180,
     "elapsed": 316,
     "user": {
      "displayName": "Петр Рубин",
      "userId": "04613233041024729335"
     }
    },
    "ExecuteTime": {
     "start_time": "2024-08-11T17:29:16.229008Z",
     "end_time": "2024-08-11T17:29:16.253717Z"
    }
   },
   "execution_count": 12,
   "outputs": []
  },
  {
   "cell_type": "code",
   "source": [
    "df.head()"
   ],
   "metadata": {
    "colab": {
     "base_uri": "https://localhost:8080/",
     "height": 206
    },
    "id": "IODsmvcJnvwJ",
    "executionInfo": {
     "status": "ok",
     "timestamp": 1680857199405,
     "user_tz": -180,
     "elapsed": 272,
     "user": {
      "displayName": "Петр Рубин",
      "userId": "04613233041024729335"
     }
    },
    "outputId": "d533a7d1-3a7c-4405-ab9c-80fbb6cdc7de",
    "ExecuteTime": {
     "start_time": "2024-08-11T17:29:21.118627Z",
     "end_time": "2024-08-11T17:29:21.174827Z"
    }
   },
   "execution_count": 13,
   "outputs": [
    {
     "data": {
      "text/plain": "   PassengerId  Survived  Pclass  \\\n0            1         0       3   \n1            2         1       1   \n2            3         1       3   \n3            4         1       1   \n4            5         0       3   \n\n                                                Name Sex   Age  SibSp  Parch  \\\n0                            Braund, Mr. Owen Harris   M  22.0      1      0   \n1  Cumings, Mrs. John Bradley (Florence Briggs Th...   F  38.0      1      0   \n2                             Heikkinen, Miss. Laina   F  26.0      0      0   \n3       Futrelle, Mrs. Jacques Heath (Lily May Peel)   F  35.0      1      0   \n4                           Allen, Mr. William Henry   M  35.0      0      0   \n\n             Ticket     Fare Cabin Embarked  \n0         A/5 21171   7.2500   NaN        S  \n1          PC 17599  71.2833   C85        C  \n2  STON/O2. 3101282   7.9250   NaN        S  \n3            113803  53.1000  C123        S  \n4            373450   8.0500   NaN        S  ",
      "text/html": "<div>\n<style scoped>\n    .dataframe tbody tr th:only-of-type {\n        vertical-align: middle;\n    }\n\n    .dataframe tbody tr th {\n        vertical-align: top;\n    }\n\n    .dataframe thead th {\n        text-align: right;\n    }\n</style>\n<table border=\"1\" class=\"dataframe\">\n  <thead>\n    <tr style=\"text-align: right;\">\n      <th></th>\n      <th>PassengerId</th>\n      <th>Survived</th>\n      <th>Pclass</th>\n      <th>Name</th>\n      <th>Sex</th>\n      <th>Age</th>\n      <th>SibSp</th>\n      <th>Parch</th>\n      <th>Ticket</th>\n      <th>Fare</th>\n      <th>Cabin</th>\n      <th>Embarked</th>\n    </tr>\n  </thead>\n  <tbody>\n    <tr>\n      <th>0</th>\n      <td>1</td>\n      <td>0</td>\n      <td>3</td>\n      <td>Braund, Mr. Owen Harris</td>\n      <td>M</td>\n      <td>22.0</td>\n      <td>1</td>\n      <td>0</td>\n      <td>A/5 21171</td>\n      <td>7.2500</td>\n      <td>NaN</td>\n      <td>S</td>\n    </tr>\n    <tr>\n      <th>1</th>\n      <td>2</td>\n      <td>1</td>\n      <td>1</td>\n      <td>Cumings, Mrs. John Bradley (Florence Briggs Th...</td>\n      <td>F</td>\n      <td>38.0</td>\n      <td>1</td>\n      <td>0</td>\n      <td>PC 17599</td>\n      <td>71.2833</td>\n      <td>C85</td>\n      <td>C</td>\n    </tr>\n    <tr>\n      <th>2</th>\n      <td>3</td>\n      <td>1</td>\n      <td>3</td>\n      <td>Heikkinen, Miss. Laina</td>\n      <td>F</td>\n      <td>26.0</td>\n      <td>0</td>\n      <td>0</td>\n      <td>STON/O2. 3101282</td>\n      <td>7.9250</td>\n      <td>NaN</td>\n      <td>S</td>\n    </tr>\n    <tr>\n      <th>3</th>\n      <td>4</td>\n      <td>1</td>\n      <td>1</td>\n      <td>Futrelle, Mrs. Jacques Heath (Lily May Peel)</td>\n      <td>F</td>\n      <td>35.0</td>\n      <td>1</td>\n      <td>0</td>\n      <td>113803</td>\n      <td>53.1000</td>\n      <td>C123</td>\n      <td>S</td>\n    </tr>\n    <tr>\n      <th>4</th>\n      <td>5</td>\n      <td>0</td>\n      <td>3</td>\n      <td>Allen, Mr. William Henry</td>\n      <td>M</td>\n      <td>35.0</td>\n      <td>0</td>\n      <td>0</td>\n      <td>373450</td>\n      <td>8.0500</td>\n      <td>NaN</td>\n      <td>S</td>\n    </tr>\n  </tbody>\n</table>\n</div>"
     },
     "execution_count": 13,
     "metadata": {},
     "output_type": "execute_result"
    }
   ]
  },
  {
   "cell_type": "code",
   "source": [
    "# Исправление отрицательных значений в колонке \"Fare\"\n",
    "df.loc[df['Fare'] < 0, 'Fare'] = 0"
   ],
   "metadata": {
    "id": "Z8nYMhe6nxXs",
    "executionInfo": {
     "status": "ok",
     "timestamp": 1680857260618,
     "user_tz": -180,
     "elapsed": 249,
     "user": {
      "displayName": "Петр Рубин",
      "userId": "04613233041024729335"
     }
    },
    "ExecuteTime": {
     "start_time": "2024-08-11T17:30:19.450277Z",
     "end_time": "2024-08-11T17:30:19.466290Z"
    }
   },
   "execution_count": 14,
   "outputs": []
  },
  {
   "cell_type": "code",
   "source": [
    "# Устранение несоответствий в колонке \"Embarked\"\n",
    "df['Embarked'] = df['Embarked'].replace('S', 'Southampton')\n",
    "df['Embarked'] = df['Embarked'].replace('C', 'Cherbourg')\n",
    "df['Embarked'] = df['Embarked'].replace('Q', 'Queenstown')"
   ],
   "metadata": {
    "id": "SiR7799toKuo",
    "executionInfo": {
     "status": "ok",
     "timestamp": 1680857314620,
     "user_tz": -180,
     "elapsed": 288,
     "user": {
      "displayName": "Петр Рубин",
      "userId": "04613233041024729335"
     }
    },
    "ExecuteTime": {
     "start_time": "2024-08-11T17:30:24.260760Z",
     "end_time": "2024-08-11T17:30:24.303892Z"
    }
   },
   "execution_count": 15,
   "outputs": []
  },
  {
   "cell_type": "code",
   "source": [
    "df.head()"
   ],
   "metadata": {
    "colab": {
     "base_uri": "https://localhost:8080/",
     "height": 206
    },
    "id": "zY9qYSQSphvH",
    "executionInfo": {
     "status": "ok",
     "timestamp": 1680857317617,
     "user_tz": -180,
     "elapsed": 269,
     "user": {
      "displayName": "Петр Рубин",
      "userId": "04613233041024729335"
     }
    },
    "outputId": "d1ae6df4-ca95-438c-c0b0-f101c833c5d1",
    "ExecuteTime": {
     "start_time": "2024-08-11T17:30:26.496426Z",
     "end_time": "2024-08-11T17:30:26.527954Z"
    }
   },
   "execution_count": 16,
   "outputs": [
    {
     "data": {
      "text/plain": "   PassengerId  Survived  Pclass  \\\n0            1         0       3   \n1            2         1       1   \n2            3         1       3   \n3            4         1       1   \n4            5         0       3   \n\n                                                Name Sex   Age  SibSp  Parch  \\\n0                            Braund, Mr. Owen Harris   M  22.0      1      0   \n1  Cumings, Mrs. John Bradley (Florence Briggs Th...   F  38.0      1      0   \n2                             Heikkinen, Miss. Laina   F  26.0      0      0   \n3       Futrelle, Mrs. Jacques Heath (Lily May Peel)   F  35.0      1      0   \n4                           Allen, Mr. William Henry   M  35.0      0      0   \n\n             Ticket     Fare Cabin     Embarked  \n0         A/5 21171   7.2500   NaN  Southampton  \n1          PC 17599  71.2833   C85    Cherbourg  \n2  STON/O2. 3101282   7.9250   NaN  Southampton  \n3            113803  53.1000  C123  Southampton  \n4            373450   8.0500   NaN  Southampton  ",
      "text/html": "<div>\n<style scoped>\n    .dataframe tbody tr th:only-of-type {\n        vertical-align: middle;\n    }\n\n    .dataframe tbody tr th {\n        vertical-align: top;\n    }\n\n    .dataframe thead th {\n        text-align: right;\n    }\n</style>\n<table border=\"1\" class=\"dataframe\">\n  <thead>\n    <tr style=\"text-align: right;\">\n      <th></th>\n      <th>PassengerId</th>\n      <th>Survived</th>\n      <th>Pclass</th>\n      <th>Name</th>\n      <th>Sex</th>\n      <th>Age</th>\n      <th>SibSp</th>\n      <th>Parch</th>\n      <th>Ticket</th>\n      <th>Fare</th>\n      <th>Cabin</th>\n      <th>Embarked</th>\n    </tr>\n  </thead>\n  <tbody>\n    <tr>\n      <th>0</th>\n      <td>1</td>\n      <td>0</td>\n      <td>3</td>\n      <td>Braund, Mr. Owen Harris</td>\n      <td>M</td>\n      <td>22.0</td>\n      <td>1</td>\n      <td>0</td>\n      <td>A/5 21171</td>\n      <td>7.2500</td>\n      <td>NaN</td>\n      <td>Southampton</td>\n    </tr>\n    <tr>\n      <th>1</th>\n      <td>2</td>\n      <td>1</td>\n      <td>1</td>\n      <td>Cumings, Mrs. John Bradley (Florence Briggs Th...</td>\n      <td>F</td>\n      <td>38.0</td>\n      <td>1</td>\n      <td>0</td>\n      <td>PC 17599</td>\n      <td>71.2833</td>\n      <td>C85</td>\n      <td>Cherbourg</td>\n    </tr>\n    <tr>\n      <th>2</th>\n      <td>3</td>\n      <td>1</td>\n      <td>3</td>\n      <td>Heikkinen, Miss. Laina</td>\n      <td>F</td>\n      <td>26.0</td>\n      <td>0</td>\n      <td>0</td>\n      <td>STON/O2. 3101282</td>\n      <td>7.9250</td>\n      <td>NaN</td>\n      <td>Southampton</td>\n    </tr>\n    <tr>\n      <th>3</th>\n      <td>4</td>\n      <td>1</td>\n      <td>1</td>\n      <td>Futrelle, Mrs. Jacques Heath (Lily May Peel)</td>\n      <td>F</td>\n      <td>35.0</td>\n      <td>1</td>\n      <td>0</td>\n      <td>113803</td>\n      <td>53.1000</td>\n      <td>C123</td>\n      <td>Southampton</td>\n    </tr>\n    <tr>\n      <th>4</th>\n      <td>5</td>\n      <td>0</td>\n      <td>3</td>\n      <td>Allen, Mr. William Henry</td>\n      <td>M</td>\n      <td>35.0</td>\n      <td>0</td>\n      <td>0</td>\n      <td>373450</td>\n      <td>8.0500</td>\n      <td>NaN</td>\n      <td>Southampton</td>\n    </tr>\n  </tbody>\n</table>\n</div>"
     },
     "execution_count": 16,
     "metadata": {},
     "output_type": "execute_result"
    }
   ]
  },
  {
   "cell_type": "code",
   "source": [
    "# Сопоставление противоречивых значений в столбце \"Embarked\"\n",
    "port_map = {'Southampton' : 'S', 'Cherbourg' : 'C', 'Queenstown' : 'Q'}\n",
    "df['Embarked'] = df['Embarked'].map(port_map)"
   ],
   "metadata": {
    "id": "5VS7_UP1pkj1",
    "executionInfo": {
     "status": "ok",
     "timestamp": 1680857362880,
     "user_tz": -180,
     "elapsed": 245,
     "user": {
      "displayName": "Петр Рубин",
      "userId": "04613233041024729335"
     }
    },
    "ExecuteTime": {
     "start_time": "2024-08-11T17:31:15.712130Z",
     "end_time": "2024-08-11T17:31:15.729633Z"
    }
   },
   "execution_count": 17,
   "outputs": []
  },
  {
   "cell_type": "code",
   "source": [
    "df.head()"
   ],
   "metadata": {
    "colab": {
     "base_uri": "https://localhost:8080/",
     "height": 206
    },
    "id": "aj4yqnFWqAgs",
    "executionInfo": {
     "status": "ok",
     "timestamp": 1680857365133,
     "user_tz": -180,
     "elapsed": 9,
     "user": {
      "displayName": "Петр Рубин",
      "userId": "04613233041024729335"
     }
    },
    "outputId": "0cf9571e-5c07-41d6-ad13-23fde5b2b232",
    "ExecuteTime": {
     "start_time": "2024-08-11T17:31:20.233973Z",
     "end_time": "2024-08-11T17:31:20.257756Z"
    }
   },
   "execution_count": 18,
   "outputs": [
    {
     "data": {
      "text/plain": "   PassengerId  Survived  Pclass  \\\n0            1         0       3   \n1            2         1       1   \n2            3         1       3   \n3            4         1       1   \n4            5         0       3   \n\n                                                Name Sex   Age  SibSp  Parch  \\\n0                            Braund, Mr. Owen Harris   M  22.0      1      0   \n1  Cumings, Mrs. John Bradley (Florence Briggs Th...   F  38.0      1      0   \n2                             Heikkinen, Miss. Laina   F  26.0      0      0   \n3       Futrelle, Mrs. Jacques Heath (Lily May Peel)   F  35.0      1      0   \n4                           Allen, Mr. William Henry   M  35.0      0      0   \n\n             Ticket     Fare Cabin Embarked  \n0         A/5 21171   7.2500   NaN        S  \n1          PC 17599  71.2833   C85        C  \n2  STON/O2. 3101282   7.9250   NaN        S  \n3            113803  53.1000  C123        S  \n4            373450   8.0500   NaN        S  ",
      "text/html": "<div>\n<style scoped>\n    .dataframe tbody tr th:only-of-type {\n        vertical-align: middle;\n    }\n\n    .dataframe tbody tr th {\n        vertical-align: top;\n    }\n\n    .dataframe thead th {\n        text-align: right;\n    }\n</style>\n<table border=\"1\" class=\"dataframe\">\n  <thead>\n    <tr style=\"text-align: right;\">\n      <th></th>\n      <th>PassengerId</th>\n      <th>Survived</th>\n      <th>Pclass</th>\n      <th>Name</th>\n      <th>Sex</th>\n      <th>Age</th>\n      <th>SibSp</th>\n      <th>Parch</th>\n      <th>Ticket</th>\n      <th>Fare</th>\n      <th>Cabin</th>\n      <th>Embarked</th>\n    </tr>\n  </thead>\n  <tbody>\n    <tr>\n      <th>0</th>\n      <td>1</td>\n      <td>0</td>\n      <td>3</td>\n      <td>Braund, Mr. Owen Harris</td>\n      <td>M</td>\n      <td>22.0</td>\n      <td>1</td>\n      <td>0</td>\n      <td>A/5 21171</td>\n      <td>7.2500</td>\n      <td>NaN</td>\n      <td>S</td>\n    </tr>\n    <tr>\n      <th>1</th>\n      <td>2</td>\n      <td>1</td>\n      <td>1</td>\n      <td>Cumings, Mrs. John Bradley (Florence Briggs Th...</td>\n      <td>F</td>\n      <td>38.0</td>\n      <td>1</td>\n      <td>0</td>\n      <td>PC 17599</td>\n      <td>71.2833</td>\n      <td>C85</td>\n      <td>C</td>\n    </tr>\n    <tr>\n      <th>2</th>\n      <td>3</td>\n      <td>1</td>\n      <td>3</td>\n      <td>Heikkinen, Miss. Laina</td>\n      <td>F</td>\n      <td>26.0</td>\n      <td>0</td>\n      <td>0</td>\n      <td>STON/O2. 3101282</td>\n      <td>7.9250</td>\n      <td>NaN</td>\n      <td>S</td>\n    </tr>\n    <tr>\n      <th>3</th>\n      <td>4</td>\n      <td>1</td>\n      <td>1</td>\n      <td>Futrelle, Mrs. Jacques Heath (Lily May Peel)</td>\n      <td>F</td>\n      <td>35.0</td>\n      <td>1</td>\n      <td>0</td>\n      <td>113803</td>\n      <td>53.1000</td>\n      <td>C123</td>\n      <td>S</td>\n    </tr>\n    <tr>\n      <th>4</th>\n      <td>5</td>\n      <td>0</td>\n      <td>3</td>\n      <td>Allen, Mr. William Henry</td>\n      <td>M</td>\n      <td>35.0</td>\n      <td>0</td>\n      <td>0</td>\n      <td>373450</td>\n      <td>8.0500</td>\n      <td>NaN</td>\n      <td>S</td>\n    </tr>\n  </tbody>\n</table>\n</div>"
     },
     "execution_count": 18,
     "metadata": {},
     "output_type": "execute_result"
    }
   ]
  },
  {
   "cell_type": "code",
   "source": [
    "# Выполнение one-hot encoding столбца \"Sex\"\n",
    "df = pd.get_dummies(df, columns=['Sex'])"
   ],
   "metadata": {
    "id": "A-CDkvvQqCAU",
    "executionInfo": {
     "status": "ok",
     "timestamp": 1680857441724,
     "user_tz": -180,
     "elapsed": 412,
     "user": {
      "displayName": "Петр Рубин",
      "userId": "04613233041024729335"
     }
    },
    "ExecuteTime": {
     "start_time": "2024-08-11T17:31:51.654425Z",
     "end_time": "2024-08-11T17:31:51.669910Z"
    }
   },
   "execution_count": 19,
   "outputs": []
  },
  {
   "cell_type": "code",
   "source": [
    "df.head()"
   ],
   "metadata": {
    "colab": {
     "base_uri": "https://localhost:8080/",
     "height": 206
    },
    "id": "N7vKN7DjsYx5",
    "executionInfo": {
     "status": "ok",
     "timestamp": 1680857446373,
     "user_tz": -180,
     "elapsed": 9,
     "user": {
      "displayName": "Петр Рубин",
      "userId": "04613233041024729335"
     }
    },
    "outputId": "bd41a311-cd7e-4cf2-b990-f7ffca03b741",
    "ExecuteTime": {
     "start_time": "2024-08-11T17:31:57.466196Z",
     "end_time": "2024-08-11T17:31:57.483302Z"
    }
   },
   "execution_count": 20,
   "outputs": [
    {
     "data": {
      "text/plain": "   PassengerId  Survived  Pclass  \\\n0            1         0       3   \n1            2         1       1   \n2            3         1       3   \n3            4         1       1   \n4            5         0       3   \n\n                                                Name   Age  SibSp  Parch  \\\n0                            Braund, Mr. Owen Harris  22.0      1      0   \n1  Cumings, Mrs. John Bradley (Florence Briggs Th...  38.0      1      0   \n2                             Heikkinen, Miss. Laina  26.0      0      0   \n3       Futrelle, Mrs. Jacques Heath (Lily May Peel)  35.0      1      0   \n4                           Allen, Mr. William Henry  35.0      0      0   \n\n             Ticket     Fare Cabin Embarked  Sex_F  Sex_M  \n0         A/5 21171   7.2500   NaN        S  False   True  \n1          PC 17599  71.2833   C85        C   True  False  \n2  STON/O2. 3101282   7.9250   NaN        S   True  False  \n3            113803  53.1000  C123        S   True  False  \n4            373450   8.0500   NaN        S  False   True  ",
      "text/html": "<div>\n<style scoped>\n    .dataframe tbody tr th:only-of-type {\n        vertical-align: middle;\n    }\n\n    .dataframe tbody tr th {\n        vertical-align: top;\n    }\n\n    .dataframe thead th {\n        text-align: right;\n    }\n</style>\n<table border=\"1\" class=\"dataframe\">\n  <thead>\n    <tr style=\"text-align: right;\">\n      <th></th>\n      <th>PassengerId</th>\n      <th>Survived</th>\n      <th>Pclass</th>\n      <th>Name</th>\n      <th>Age</th>\n      <th>SibSp</th>\n      <th>Parch</th>\n      <th>Ticket</th>\n      <th>Fare</th>\n      <th>Cabin</th>\n      <th>Embarked</th>\n      <th>Sex_F</th>\n      <th>Sex_M</th>\n    </tr>\n  </thead>\n  <tbody>\n    <tr>\n      <th>0</th>\n      <td>1</td>\n      <td>0</td>\n      <td>3</td>\n      <td>Braund, Mr. Owen Harris</td>\n      <td>22.0</td>\n      <td>1</td>\n      <td>0</td>\n      <td>A/5 21171</td>\n      <td>7.2500</td>\n      <td>NaN</td>\n      <td>S</td>\n      <td>False</td>\n      <td>True</td>\n    </tr>\n    <tr>\n      <th>1</th>\n      <td>2</td>\n      <td>1</td>\n      <td>1</td>\n      <td>Cumings, Mrs. John Bradley (Florence Briggs Th...</td>\n      <td>38.0</td>\n      <td>1</td>\n      <td>0</td>\n      <td>PC 17599</td>\n      <td>71.2833</td>\n      <td>C85</td>\n      <td>C</td>\n      <td>True</td>\n      <td>False</td>\n    </tr>\n    <tr>\n      <th>2</th>\n      <td>3</td>\n      <td>1</td>\n      <td>3</td>\n      <td>Heikkinen, Miss. Laina</td>\n      <td>26.0</td>\n      <td>0</td>\n      <td>0</td>\n      <td>STON/O2. 3101282</td>\n      <td>7.9250</td>\n      <td>NaN</td>\n      <td>S</td>\n      <td>True</td>\n      <td>False</td>\n    </tr>\n    <tr>\n      <th>3</th>\n      <td>4</td>\n      <td>1</td>\n      <td>1</td>\n      <td>Futrelle, Mrs. Jacques Heath (Lily May Peel)</td>\n      <td>35.0</td>\n      <td>1</td>\n      <td>0</td>\n      <td>113803</td>\n      <td>53.1000</td>\n      <td>C123</td>\n      <td>S</td>\n      <td>True</td>\n      <td>False</td>\n    </tr>\n    <tr>\n      <th>4</th>\n      <td>5</td>\n      <td>0</td>\n      <td>3</td>\n      <td>Allen, Mr. William Henry</td>\n      <td>35.0</td>\n      <td>0</td>\n      <td>0</td>\n      <td>373450</td>\n      <td>8.0500</td>\n      <td>NaN</td>\n      <td>S</td>\n      <td>False</td>\n      <td>True</td>\n    </tr>\n  </tbody>\n</table>\n</div>"
     },
     "execution_count": 20,
     "metadata": {},
     "output_type": "execute_result"
    }
   ]
  },
  {
   "cell_type": "code",
   "source": [
    "# Выполнение label encoding столбца \"Embarked\"\n",
    "# pip install scikit-learn\n",
    "from sklearn.preprocessing import LabelEncoder\n",
    "\n",
    "le = LabelEncoder()\n",
    "df['Embarked'] = le.fit_transform(df['Embarked'].astype(str))"
   ],
   "metadata": {
    "id": "42YIa8agsb3j",
    "executionInfo": {
     "status": "ok",
     "timestamp": 1680857604514,
     "user_tz": -180,
     "elapsed": 1173,
     "user": {
      "displayName": "Петр Рубин",
      "userId": "04613233041024729335"
     }
    },
    "ExecuteTime": {
     "start_time": "2024-08-11T17:34:24.153793Z",
     "end_time": "2024-08-11T17:34:25.192138Z"
    }
   },
   "execution_count": 22,
   "outputs": []
  },
  {
   "cell_type": "code",
   "source": [
    "df.head(10)"
   ],
   "metadata": {
    "colab": {
     "base_uri": "https://localhost:8080/",
     "height": 363
    },
    "id": "EZ0VnQRas-4Q",
    "executionInfo": {
     "status": "ok",
     "timestamp": 1680857608318,
     "user_tz": -180,
     "elapsed": 283,
     "user": {
      "displayName": "Петр Рубин",
      "userId": "04613233041024729335"
     }
    },
    "outputId": "98a02f04-bbca-44dd-cf86-ece21af086d6",
    "ExecuteTime": {
     "start_time": "2024-08-11T17:34:45.699033Z",
     "end_time": "2024-08-11T17:34:45.725884Z"
    }
   },
   "execution_count": 23,
   "outputs": [
    {
     "data": {
      "text/plain": "   PassengerId  Survived  Pclass  \\\n0            1         0       3   \n1            2         1       1   \n2            3         1       3   \n3            4         1       1   \n4            5         0       3   \n5            6         0       3   \n6            7         0       1   \n7            8         0       3   \n8            9         1       3   \n9           10         1       2   \n\n                                                Name   Age  SibSp  Parch  \\\n0                            Braund, Mr. Owen Harris  22.0      1      0   \n1  Cumings, Mrs. John Bradley (Florence Briggs Th...  38.0      1      0   \n2                             Heikkinen, Miss. Laina  26.0      0      0   \n3       Futrelle, Mrs. Jacques Heath (Lily May Peel)  35.0      1      0   \n4                           Allen, Mr. William Henry  35.0      0      0   \n5                                   Moran, Mr. James  28.0      0      0   \n6                            McCarthy, Mr. Timothy J  54.0      0      0   \n7                     Palsson, Master. Gosta Leonard   2.0      3      1   \n8  Johnson, Mrs. Oscar W (Elisabeth Vilhelmina Berg)  27.0      0      2   \n9                Nasser, Mrs. Nicholas (Adele Achem)  14.0      1      0   \n\n             Ticket     Fare Cabin  Embarked  Sex_F  Sex_M  \n0         A/5 21171   7.2500   NaN         2  False   True  \n1          PC 17599  71.2833   C85         0   True  False  \n2  STON/O2. 3101282   7.9250   NaN         2   True  False  \n3            113803  53.1000  C123         2   True  False  \n4            373450   8.0500   NaN         2  False   True  \n5            330877   8.4583   NaN         1  False   True  \n6             17463  51.8625   E46         2  False   True  \n7            349909  21.0750   NaN         2  False   True  \n8            347742  11.1333   NaN         2   True  False  \n9            237736  30.0708   NaN         0   True  False  ",
      "text/html": "<div>\n<style scoped>\n    .dataframe tbody tr th:only-of-type {\n        vertical-align: middle;\n    }\n\n    .dataframe tbody tr th {\n        vertical-align: top;\n    }\n\n    .dataframe thead th {\n        text-align: right;\n    }\n</style>\n<table border=\"1\" class=\"dataframe\">\n  <thead>\n    <tr style=\"text-align: right;\">\n      <th></th>\n      <th>PassengerId</th>\n      <th>Survived</th>\n      <th>Pclass</th>\n      <th>Name</th>\n      <th>Age</th>\n      <th>SibSp</th>\n      <th>Parch</th>\n      <th>Ticket</th>\n      <th>Fare</th>\n      <th>Cabin</th>\n      <th>Embarked</th>\n      <th>Sex_F</th>\n      <th>Sex_M</th>\n    </tr>\n  </thead>\n  <tbody>\n    <tr>\n      <th>0</th>\n      <td>1</td>\n      <td>0</td>\n      <td>3</td>\n      <td>Braund, Mr. Owen Harris</td>\n      <td>22.0</td>\n      <td>1</td>\n      <td>0</td>\n      <td>A/5 21171</td>\n      <td>7.2500</td>\n      <td>NaN</td>\n      <td>2</td>\n      <td>False</td>\n      <td>True</td>\n    </tr>\n    <tr>\n      <th>1</th>\n      <td>2</td>\n      <td>1</td>\n      <td>1</td>\n      <td>Cumings, Mrs. John Bradley (Florence Briggs Th...</td>\n      <td>38.0</td>\n      <td>1</td>\n      <td>0</td>\n      <td>PC 17599</td>\n      <td>71.2833</td>\n      <td>C85</td>\n      <td>0</td>\n      <td>True</td>\n      <td>False</td>\n    </tr>\n    <tr>\n      <th>2</th>\n      <td>3</td>\n      <td>1</td>\n      <td>3</td>\n      <td>Heikkinen, Miss. Laina</td>\n      <td>26.0</td>\n      <td>0</td>\n      <td>0</td>\n      <td>STON/O2. 3101282</td>\n      <td>7.9250</td>\n      <td>NaN</td>\n      <td>2</td>\n      <td>True</td>\n      <td>False</td>\n    </tr>\n    <tr>\n      <th>3</th>\n      <td>4</td>\n      <td>1</td>\n      <td>1</td>\n      <td>Futrelle, Mrs. Jacques Heath (Lily May Peel)</td>\n      <td>35.0</td>\n      <td>1</td>\n      <td>0</td>\n      <td>113803</td>\n      <td>53.1000</td>\n      <td>C123</td>\n      <td>2</td>\n      <td>True</td>\n      <td>False</td>\n    </tr>\n    <tr>\n      <th>4</th>\n      <td>5</td>\n      <td>0</td>\n      <td>3</td>\n      <td>Allen, Mr. William Henry</td>\n      <td>35.0</td>\n      <td>0</td>\n      <td>0</td>\n      <td>373450</td>\n      <td>8.0500</td>\n      <td>NaN</td>\n      <td>2</td>\n      <td>False</td>\n      <td>True</td>\n    </tr>\n    <tr>\n      <th>5</th>\n      <td>6</td>\n      <td>0</td>\n      <td>3</td>\n      <td>Moran, Mr. James</td>\n      <td>28.0</td>\n      <td>0</td>\n      <td>0</td>\n      <td>330877</td>\n      <td>8.4583</td>\n      <td>NaN</td>\n      <td>1</td>\n      <td>False</td>\n      <td>True</td>\n    </tr>\n    <tr>\n      <th>6</th>\n      <td>7</td>\n      <td>0</td>\n      <td>1</td>\n      <td>McCarthy, Mr. Timothy J</td>\n      <td>54.0</td>\n      <td>0</td>\n      <td>0</td>\n      <td>17463</td>\n      <td>51.8625</td>\n      <td>E46</td>\n      <td>2</td>\n      <td>False</td>\n      <td>True</td>\n    </tr>\n    <tr>\n      <th>7</th>\n      <td>8</td>\n      <td>0</td>\n      <td>3</td>\n      <td>Palsson, Master. Gosta Leonard</td>\n      <td>2.0</td>\n      <td>3</td>\n      <td>1</td>\n      <td>349909</td>\n      <td>21.0750</td>\n      <td>NaN</td>\n      <td>2</td>\n      <td>False</td>\n      <td>True</td>\n    </tr>\n    <tr>\n      <th>8</th>\n      <td>9</td>\n      <td>1</td>\n      <td>3</td>\n      <td>Johnson, Mrs. Oscar W (Elisabeth Vilhelmina Berg)</td>\n      <td>27.0</td>\n      <td>0</td>\n      <td>2</td>\n      <td>347742</td>\n      <td>11.1333</td>\n      <td>NaN</td>\n      <td>2</td>\n      <td>True</td>\n      <td>False</td>\n    </tr>\n    <tr>\n      <th>9</th>\n      <td>10</td>\n      <td>1</td>\n      <td>2</td>\n      <td>Nasser, Mrs. Nicholas (Adele Achem)</td>\n      <td>14.0</td>\n      <td>1</td>\n      <td>0</td>\n      <td>237736</td>\n      <td>30.0708</td>\n      <td>NaN</td>\n      <td>0</td>\n      <td>True</td>\n      <td>False</td>\n    </tr>\n  </tbody>\n</table>\n</div>"
     },
     "execution_count": 23,
     "metadata": {},
     "output_type": "execute_result"
    }
   ]
  },
  {
   "cell_type": "code",
   "source": [
    "# Вычисление Z-score для столбца \"Fare\"\n",
    "from scipy import stats\n",
    "\n",
    "z = np.abs(stats.zscore(df['Fare']))\n",
    "\n",
    "# Установка порогового значения Z-score\n",
    "threshold = 3\n",
    "\n",
    "# Выявление выбросов на основе Z-score\n",
    "outliers = df['Fare'][z > threshold]"
   ],
   "metadata": {
    "id": "1NOJNK30tA9M",
    "executionInfo": {
     "status": "ok",
     "timestamp": 1680858486940,
     "user_tz": -180,
     "elapsed": 346,
     "user": {
      "displayName": "Петр Рубин",
      "userId": "04613233041024729335"
     }
    },
    "ExecuteTime": {
     "start_time": "2024-08-11T17:38:05.985289Z",
     "end_time": "2024-08-11T17:38:06.036152Z"
    }
   },
   "execution_count": 24,
   "outputs": []
  },
  {
   "cell_type": "code",
   "source": [
    "df['Fare'].mean()"
   ],
   "metadata": {
    "colab": {
     "base_uri": "https://localhost:8080/"
    },
    "id": "l8uE8jcVx-D-",
    "executionInfo": {
     "status": "ok",
     "timestamp": 1680858494182,
     "user_tz": -180,
     "elapsed": 307,
     "user": {
      "displayName": "Петр Рубин",
      "userId": "04613233041024729335"
     }
    },
    "outputId": "a4ab9e48-e587-4a6c-f5a1-e83b68284296",
    "ExecuteTime": {
     "start_time": "2024-08-11T17:38:17.289903Z",
     "end_time": "2024-08-11T17:38:17.304877Z"
    }
   },
   "execution_count": 26,
   "outputs": [
    {
     "data": {
      "text/plain": "np.float64(32.204207968574636)"
     },
     "execution_count": 26,
     "metadata": {},
     "output_type": "execute_result"
    }
   ]
  },
  {
   "cell_type": "code",
   "source": [
    "outliers"
   ],
   "metadata": {
    "colab": {
     "base_uri": "https://localhost:8080/"
    },
    "id": "5aPozIddxwu4",
    "executionInfo": {
     "status": "ok",
     "timestamp": 1680858505348,
     "user_tz": -180,
     "elapsed": 944,
     "user": {
      "displayName": "Петр Рубин",
      "userId": "04613233041024729335"
     }
    },
    "outputId": "aeb407e1-5208-40e6-88ba-87b9e83eacd5",
    "ExecuteTime": {
     "start_time": "2024-08-11T17:38:21.194965Z",
     "end_time": "2024-08-11T17:38:21.207973Z"
    }
   },
   "execution_count": 27,
   "outputs": [
    {
     "data": {
      "text/plain": "27     263.0000\n88     263.0000\n118    247.5208\n258    512.3292\n299    247.5208\n311    262.3750\n341    263.0000\n377    211.5000\n380    227.5250\n438    263.0000\n527    221.7792\n557    227.5250\n679    512.3292\n689    211.3375\n700    227.5250\n716    227.5250\n730    211.3375\n737    512.3292\n742    262.3750\n779    211.3375\nName: Fare, dtype: float64"
     },
     "execution_count": 27,
     "metadata": {},
     "output_type": "execute_result"
    }
   ]
  },
  {
   "cell_type": "code",
   "source": [
    "# Замена выбрасов медианным значением\n",
    "df.loc[z > threshold, 'Fare'] = df['Fare'].median()"
   ],
   "metadata": {
    "id": "9Cisw8w1xvqu",
    "executionInfo": {
     "status": "ok",
     "timestamp": 1680858563886,
     "user_tz": -180,
     "elapsed": 338,
     "user": {
      "displayName": "Петр Рубин",
      "userId": "04613233041024729335"
     }
    },
    "ExecuteTime": {
     "start_time": "2024-08-11T17:39:00.080467Z",
     "end_time": "2024-08-11T17:39:00.097604Z"
    }
   },
   "execution_count": 28,
   "outputs": []
  },
  {
   "cell_type": "code",
   "source": [
    "df['Fare'].mean()"
   ],
   "metadata": {
    "colab": {
     "base_uri": "https://localhost:8080/"
    },
    "id": "ZUtszhYvyKjC",
    "executionInfo": {
     "status": "ok",
     "timestamp": 1680858570676,
     "user_tz": -180,
     "elapsed": 303,
     "user": {
      "displayName": "Петр Рубин",
      "userId": "04613233041024729335"
     }
    },
    "outputId": "539f6778-95c0-4574-94cc-fb071e8ece07",
    "ExecuteTime": {
     "start_time": "2024-08-11T17:39:03.366076Z",
     "end_time": "2024-08-11T17:39:03.379093Z"
    }
   },
   "execution_count": 29,
   "outputs": [
    {
     "data": {
      "text/plain": "np.float64(26.25910482603816)"
     },
     "execution_count": 29,
     "metadata": {},
     "output_type": "execute_result"
    }
   ]
  },
  {
   "cell_type": "markdown",
   "source": [
    "Пример винсоризации\n",
    "2 4 6 8 10 12 14 16 18 100\n",
    "2 4 6 8 10 12 14 16 18 18"
   ],
   "metadata": {
    "collapsed": false
   }
  },
  {
   "cell_type": "code",
   "source": [
    "# Винсоризация столбца \"Fare\"\n",
    "from scipy.stats.mstats import winsorize\n",
    "\n",
    "df['Fare'] = winsorize(df['Fare'], limits=[0.05, 0.05])"
   ],
   "metadata": {
    "id": "TjOI7aI7zg0S",
    "executionInfo": {
     "status": "ok",
     "timestamp": 1680858758754,
     "user_tz": -180,
     "elapsed": 279,
     "user": {
      "displayName": "Петр Рубин",
      "userId": "04613233041024729335"
     }
    },
    "ExecuteTime": {
     "start_time": "2024-08-11T17:41:06.871975Z",
     "end_time": "2024-08-11T17:41:06.884706Z"
    }
   },
   "execution_count": 30,
   "outputs": []
  },
  {
   "cell_type": "code",
   "source": [
    "df['Fare'].mean()"
   ],
   "metadata": {
    "colab": {
     "base_uri": "https://localhost:8080/"
    },
    "id": "C2Pk204q126c",
    "executionInfo": {
     "status": "ok",
     "timestamp": 1680858763517,
     "user_tz": -180,
     "elapsed": 262,
     "user": {
      "displayName": "Петр Рубин",
      "userId": "04613233041024729335"
     }
    },
    "outputId": "15a3f3e5-c666-453e-8c38-b5c5051a24b0",
    "ExecuteTime": {
     "start_time": "2024-08-11T17:41:11.095575Z",
     "end_time": "2024-08-11T17:41:11.110099Z"
    }
   },
   "execution_count": 31,
   "outputs": [
    {
     "data": {
      "text/plain": "np.float64(24.696483389450055)"
     },
     "execution_count": 31,
     "metadata": {},
     "output_type": "execute_result"
    }
   ]
  },
  {
   "cell_type": "code",
   "source": [
    "# Трансформация столбца \"Fare\" с помощью логарифмической функции\n",
    "df['Fare'] = np.log1p(df['Fare'])"
   ],
   "metadata": {
    "id": "weG018Ey14cd",
    "executionInfo": {
     "status": "ok",
     "timestamp": 1680858860780,
     "user_tz": -180,
     "elapsed": 268,
     "user": {
      "displayName": "Петр Рубин",
      "userId": "04613233041024729335"
     }
    },
    "ExecuteTime": {
     "start_time": "2024-08-11T17:41:31.206796Z",
     "end_time": "2024-08-11T17:41:31.231434Z"
    }
   },
   "execution_count": 32,
   "outputs": []
  },
  {
   "cell_type": "code",
   "source": [
    "df['Fare'].mean()"
   ],
   "metadata": {
    "colab": {
     "base_uri": "https://localhost:8080/"
    },
    "id": "Dd5ZSxg22URf",
    "executionInfo": {
     "status": "ok",
     "timestamp": 1680858863416,
     "user_tz": -180,
     "elapsed": 276,
     "user": {
      "displayName": "Петр Рубин",
      "userId": "04613233041024729335"
     }
    },
    "outputId": "04a07c65-2f4b-407d-e259-66453579ce1e",
    "ExecuteTime": {
     "start_time": "2024-08-11T17:41:32.826018Z",
     "end_time": "2024-08-11T17:41:32.846381Z"
    }
   },
   "execution_count": 33,
   "outputs": [
    {
     "data": {
      "text/plain": "np.float64(2.9203914579094272)"
     },
     "execution_count": 33,
     "metadata": {},
     "output_type": "execute_result"
    }
   ]
  },
  {
   "cell_type": "code",
   "source": [
    "prices = [10, 20, 30, 40, 50, 1000]\n",
    "\n",
    "log_prices = np.log1p(prices)\n",
    "log_prices"
   ],
   "metadata": {
    "colab": {
     "base_uri": "https://localhost:8080/"
    },
    "id": "GmWPfLUr2Vjg",
    "executionInfo": {
     "status": "ok",
     "timestamp": 1680858935147,
     "user_tz": -180,
     "elapsed": 387,
     "user": {
      "displayName": "Петр Рубин",
      "userId": "04613233041024729335"
     }
    },
    "outputId": "f62644cc-7986-41f8-9942-5d7baffaf255",
    "ExecuteTime": {
     "start_time": "2024-08-11T17:42:11.939640Z",
     "end_time": "2024-08-11T17:42:11.958196Z"
    }
   },
   "execution_count": 34,
   "outputs": [
    {
     "data": {
      "text/plain": "array([2.39789527, 3.04452244, 3.4339872 , 3.71357207, 3.93182563,\n       6.90875478])"
     },
     "execution_count": 34,
     "metadata": {},
     "output_type": "execute_result"
    }
   ]
  },
  {
   "cell_type": "code",
   "source": [
    "from sklearn.preprocessing import StandardScaler\n",
    "\n",
    "data = np.array([[1, 2], [3, 4], [5, 6], [7, 8]])\n",
    "print(data.mean())\n",
    "print(data.std())\n",
    "# Создание объекта StandardScaler\n",
    "scaler = StandardScaler()\n",
    "\n",
    "# Подгонка и преобразование данных\n",
    "scaled_data = scaler.fit_transform(data)\n",
    "\n",
    "print(scaled_data)\n",
    "print(scaled_data.mean())\n",
    "print(scaled_data.std())"
   ],
   "metadata": {
    "colab": {
     "base_uri": "https://localhost:8080/"
    },
    "id": "nqp8EU8x3jHI",
    "executionInfo": {
     "status": "ok",
     "timestamp": 1680859535637,
     "user_tz": -180,
     "elapsed": 875,
     "user": {
      "displayName": "Петр Рубин",
      "userId": "04613233041024729335"
     }
    },
    "outputId": "a29bc1a0-9df7-44a4-b645-7a69fe2ebdd0",
    "ExecuteTime": {
     "start_time": "2024-08-11T17:43:25.091919Z",
     "end_time": "2024-08-11T17:43:25.098284Z"
    }
   },
   "execution_count": 35,
   "outputs": [
    {
     "name": "stdout",
     "output_type": "stream",
     "text": [
      "4.5\n",
      "2.29128784747792\n",
      "[[-1.34164079 -1.34164079]\n",
      " [-0.4472136  -0.4472136 ]\n",
      " [ 0.4472136   0.4472136 ]\n",
      " [ 1.34164079  1.34164079]]\n",
      "0.0\n",
      "1.0\n"
     ]
    }
   ]
  },
  {
   "cell_type": "code",
   "source": [
    "np.array(data).mean()"
   ],
   "metadata": {
    "id": "rE4y-p_yY57M",
    "ExecuteTime": {
     "start_time": "2024-08-11T17:43:41.133818Z",
     "end_time": "2024-08-11T17:43:41.148843Z"
    }
   },
   "execution_count": 36,
   "outputs": [
    {
     "data": {
      "text/plain": "np.float64(4.5)"
     },
     "execution_count": 36,
     "metadata": {},
     "output_type": "execute_result"
    }
   ]
  },
  {
   "cell_type": "code",
   "source": [
    "type(scaled_data)"
   ],
   "metadata": {
    "id": "t3rUzfqCaXeG",
    "ExecuteTime": {
     "start_time": "2024-08-11T17:43:45.701006Z",
     "end_time": "2024-08-11T17:43:45.726633Z"
    }
   },
   "execution_count": 37,
   "outputs": [
    {
     "data": {
      "text/plain": "numpy.ndarray"
     },
     "execution_count": 37,
     "metadata": {},
     "output_type": "execute_result"
    }
   ]
  },
  {
   "cell_type": "code",
   "source": [
    "sales = pd.read_csv('sales.csv')\n",
    "inventory = pd.read_csv('inventory.csv')"
   ],
   "metadata": {
    "id": "FwHZMoDXaa8c",
    "executionInfo": {
     "status": "ok",
     "timestamp": 1680860901238,
     "user_tz": -180,
     "elapsed": 320,
     "user": {
      "displayName": "Петр Рубин",
      "userId": "04613233041024729335"
     }
    },
    "ExecuteTime": {
     "start_time": "2024-08-11T18:00:04.281369Z",
     "end_time": "2024-08-11T18:00:04.296952Z"
    }
   },
   "execution_count": 48,
   "outputs": []
  },
  {
   "cell_type": "code",
   "source": [
    "sales"
   ],
   "metadata": {
    "colab": {
     "base_uri": "https://localhost:8080/",
     "height": 175
    },
    "id": "zWouJubCgkq7",
    "executionInfo": {
     "status": "ok",
     "timestamp": 1680860905797,
     "user_tz": -180,
     "elapsed": 277,
     "user": {
      "displayName": "Петр Рубин",
      "userId": "04613233041024729335"
     }
    },
    "outputId": "e021432d-a3b4-43e2-80b9-5d6816eef6a7",
    "ExecuteTime": {
     "start_time": "2024-08-11T18:00:06.978292Z",
     "end_time": "2024-08-11T18:00:06.994099Z"
    }
   },
   "execution_count": 49,
   "outputs": [
    {
     "data": {
      "text/plain": "   product_id  sales_date  sales_quantity\n0           1  01.01.2022              10\n1           2  01.01.2022              20\n2           1  02.01.2022              15\n3           2  02.01.2022              25",
      "text/html": "<div>\n<style scoped>\n    .dataframe tbody tr th:only-of-type {\n        vertical-align: middle;\n    }\n\n    .dataframe tbody tr th {\n        vertical-align: top;\n    }\n\n    .dataframe thead th {\n        text-align: right;\n    }\n</style>\n<table border=\"1\" class=\"dataframe\">\n  <thead>\n    <tr style=\"text-align: right;\">\n      <th></th>\n      <th>product_id</th>\n      <th>sales_date</th>\n      <th>sales_quantity</th>\n    </tr>\n  </thead>\n  <tbody>\n    <tr>\n      <th>0</th>\n      <td>1</td>\n      <td>01.01.2022</td>\n      <td>10</td>\n    </tr>\n    <tr>\n      <th>1</th>\n      <td>2</td>\n      <td>01.01.2022</td>\n      <td>20</td>\n    </tr>\n    <tr>\n      <th>2</th>\n      <td>1</td>\n      <td>02.01.2022</td>\n      <td>15</td>\n    </tr>\n    <tr>\n      <th>3</th>\n      <td>2</td>\n      <td>02.01.2022</td>\n      <td>25</td>\n    </tr>\n  </tbody>\n</table>\n</div>"
     },
     "execution_count": 49,
     "metadata": {},
     "output_type": "execute_result"
    }
   ]
  },
  {
   "cell_type": "code",
   "source": [
    "inventory"
   ],
   "metadata": {
    "colab": {
     "base_uri": "https://localhost:8080/",
     "height": 175
    },
    "id": "5BA74DH8gmPm",
    "executionInfo": {
     "status": "ok",
     "timestamp": 1680860907650,
     "user_tz": -180,
     "elapsed": 5,
     "user": {
      "displayName": "Петр Рубин",
      "userId": "04613233041024729335"
     }
    },
    "outputId": "400828f3-4820-4dd0-ca15-11fe9ad5e69f",
    "ExecuteTime": {
     "start_time": "2024-08-11T18:00:09.898714Z",
     "end_time": "2024-08-11T18:00:09.910843Z"
    }
   },
   "execution_count": 50,
   "outputs": [
    {
     "data": {
      "text/plain": "   product_id  sales_date  inventory_level\n0           1  01.01.2022              100\n1           2  01.01.2022              200\n2           1  02.01.2022               90\n3           2  02.01.2022              180",
      "text/html": "<div>\n<style scoped>\n    .dataframe tbody tr th:only-of-type {\n        vertical-align: middle;\n    }\n\n    .dataframe tbody tr th {\n        vertical-align: top;\n    }\n\n    .dataframe thead th {\n        text-align: right;\n    }\n</style>\n<table border=\"1\" class=\"dataframe\">\n  <thead>\n    <tr style=\"text-align: right;\">\n      <th></th>\n      <th>product_id</th>\n      <th>sales_date</th>\n      <th>inventory_level</th>\n    </tr>\n  </thead>\n  <tbody>\n    <tr>\n      <th>0</th>\n      <td>1</td>\n      <td>01.01.2022</td>\n      <td>100</td>\n    </tr>\n    <tr>\n      <th>1</th>\n      <td>2</td>\n      <td>01.01.2022</td>\n      <td>200</td>\n    </tr>\n    <tr>\n      <th>2</th>\n      <td>1</td>\n      <td>02.01.2022</td>\n      <td>90</td>\n    </tr>\n    <tr>\n      <th>3</th>\n      <td>2</td>\n      <td>02.01.2022</td>\n      <td>180</td>\n    </tr>\n  </tbody>\n</table>\n</div>"
     },
     "execution_count": 50,
     "metadata": {},
     "output_type": "execute_result"
    }
   ]
  },
  {
   "cell_type": "code",
   "source": [
    "merged_data = pd.merge(sales, inventory, on=['product_id', 'sales_date'], how='left')"
   ],
   "metadata": {
    "id": "NHuMZmT0hmkA",
    "executionInfo": {
     "status": "ok",
     "timestamp": 1680860990377,
     "user_tz": -180,
     "elapsed": 267,
     "user": {
      "displayName": "Петр Рубин",
      "userId": "04613233041024729335"
     }
    },
    "ExecuteTime": {
     "start_time": "2024-08-11T18:00:23.374678Z",
     "end_time": "2024-08-11T18:00:23.378727Z"
    }
   },
   "execution_count": 51,
   "outputs": []
  },
  {
   "cell_type": "code",
   "source": [
    "merged_data"
   ],
   "metadata": {
    "colab": {
     "base_uri": "https://localhost:8080/",
     "height": 175
    },
    "id": "Uk6SpE9jhvke",
    "executionInfo": {
     "status": "ok",
     "timestamp": 1680860991243,
     "user_tz": -180,
     "elapsed": 7,
     "user": {
      "displayName": "Петр Рубин",
      "userId": "04613233041024729335"
     }
    },
    "outputId": "586a56e4-f13f-4ef5-b4df-62a1f9b8c41b",
    "ExecuteTime": {
     "start_time": "2024-08-11T18:00:24.777063Z",
     "end_time": "2024-08-11T18:00:24.792824Z"
    }
   },
   "execution_count": 52,
   "outputs": [
    {
     "data": {
      "text/plain": "   product_id  sales_date  sales_quantity  inventory_level\n0           1  01.01.2022              10              100\n1           2  01.01.2022              20              200\n2           1  02.01.2022              15               90\n3           2  02.01.2022              25              180",
      "text/html": "<div>\n<style scoped>\n    .dataframe tbody tr th:only-of-type {\n        vertical-align: middle;\n    }\n\n    .dataframe tbody tr th {\n        vertical-align: top;\n    }\n\n    .dataframe thead th {\n        text-align: right;\n    }\n</style>\n<table border=\"1\" class=\"dataframe\">\n  <thead>\n    <tr style=\"text-align: right;\">\n      <th></th>\n      <th>product_id</th>\n      <th>sales_date</th>\n      <th>sales_quantity</th>\n      <th>inventory_level</th>\n    </tr>\n  </thead>\n  <tbody>\n    <tr>\n      <th>0</th>\n      <td>1</td>\n      <td>01.01.2022</td>\n      <td>10</td>\n      <td>100</td>\n    </tr>\n    <tr>\n      <th>1</th>\n      <td>2</td>\n      <td>01.01.2022</td>\n      <td>20</td>\n      <td>200</td>\n    </tr>\n    <tr>\n      <th>2</th>\n      <td>1</td>\n      <td>02.01.2022</td>\n      <td>15</td>\n      <td>90</td>\n    </tr>\n    <tr>\n      <th>3</th>\n      <td>2</td>\n      <td>02.01.2022</td>\n      <td>25</td>\n      <td>180</td>\n    </tr>\n  </tbody>\n</table>\n</div>"
     },
     "execution_count": 52,
     "metadata": {},
     "output_type": "execute_result"
    }
   ]
  },
  {
   "cell_type": "code",
   "source": [
    "sales2 = pd.read_csv('sales2.csv')\n",
    "sales2"
   ],
   "metadata": {
    "colab": {
     "base_uri": "https://localhost:8080/",
     "height": 300
    },
    "id": "KOUmdbEbiGwI",
    "executionInfo": {
     "status": "ok",
     "timestamp": 1680861047963,
     "user_tz": -180,
     "elapsed": 312,
     "user": {
      "displayName": "Петр Рубин",
      "userId": "04613233041024729335"
     }
    },
    "outputId": "cec874c0-dade-4799-fdeb-707e4ecb6cb7",
    "ExecuteTime": {
     "start_time": "2024-08-11T18:03:44.820831Z",
     "end_time": "2024-08-11T18:03:44.836150Z"
    }
   },
   "execution_count": 53,
   "outputs": [
    {
     "data": {
      "text/plain": "   product_id region month  sales_quantity\n0           1  North   Jan              10\n1           2  North   Jan              20\n2           1  South   Jan              15\n3           2  South   Jan              25\n4           1  North   Feb              12\n5           2  North   Feb              22\n6           1  South   Feb              18\n7           2  South   Feb              28",
      "text/html": "<div>\n<style scoped>\n    .dataframe tbody tr th:only-of-type {\n        vertical-align: middle;\n    }\n\n    .dataframe tbody tr th {\n        vertical-align: top;\n    }\n\n    .dataframe thead th {\n        text-align: right;\n    }\n</style>\n<table border=\"1\" class=\"dataframe\">\n  <thead>\n    <tr style=\"text-align: right;\">\n      <th></th>\n      <th>product_id</th>\n      <th>region</th>\n      <th>month</th>\n      <th>sales_quantity</th>\n    </tr>\n  </thead>\n  <tbody>\n    <tr>\n      <th>0</th>\n      <td>1</td>\n      <td>North</td>\n      <td>Jan</td>\n      <td>10</td>\n    </tr>\n    <tr>\n      <th>1</th>\n      <td>2</td>\n      <td>North</td>\n      <td>Jan</td>\n      <td>20</td>\n    </tr>\n    <tr>\n      <th>2</th>\n      <td>1</td>\n      <td>South</td>\n      <td>Jan</td>\n      <td>15</td>\n    </tr>\n    <tr>\n      <th>3</th>\n      <td>2</td>\n      <td>South</td>\n      <td>Jan</td>\n      <td>25</td>\n    </tr>\n    <tr>\n      <th>4</th>\n      <td>1</td>\n      <td>North</td>\n      <td>Feb</td>\n      <td>12</td>\n    </tr>\n    <tr>\n      <th>5</th>\n      <td>2</td>\n      <td>North</td>\n      <td>Feb</td>\n      <td>22</td>\n    </tr>\n    <tr>\n      <th>6</th>\n      <td>1</td>\n      <td>South</td>\n      <td>Feb</td>\n      <td>18</td>\n    </tr>\n    <tr>\n      <th>7</th>\n      <td>2</td>\n      <td>South</td>\n      <td>Feb</td>\n      <td>28</td>\n    </tr>\n  </tbody>\n</table>\n</div>"
     },
     "execution_count": 53,
     "metadata": {},
     "output_type": "execute_result"
    }
   ]
  },
  {
   "cell_type": "code",
   "source": [
    "pivot_data = sales2.pivot_table(index='product_id', columns=['region', 'month'], values='sales_quantity', aggfunc='sum')"
   ],
   "metadata": {
    "id": "eJAO9Pytm-Xa",
    "executionInfo": {
     "status": "ok",
     "timestamp": 1680861098644,
     "user_tz": -180,
     "elapsed": 359,
     "user": {
      "displayName": "Петр Рубин",
      "userId": "04613233041024729335"
     }
    },
    "ExecuteTime": {
     "start_time": "2024-08-11T18:03:50.349091Z",
     "end_time": "2024-08-11T18:03:50.410508Z"
    }
   },
   "execution_count": 54,
   "outputs": []
  },
  {
   "cell_type": "code",
   "source": [
    "pivot_data"
   ],
   "metadata": {
    "colab": {
     "base_uri": "https://localhost:8080/",
     "height": 175
    },
    "id": "1nIagW7HnE-Y",
    "executionInfo": {
     "status": "ok",
     "timestamp": 1680861101278,
     "user_tz": -180,
     "elapsed": 277,
     "user": {
      "displayName": "Петр Рубин",
      "userId": "04613233041024729335"
     }
    },
    "outputId": "e26de0de-a3b1-4df1-ac6d-b50ebe504149",
    "ExecuteTime": {
     "start_time": "2024-08-11T18:03:52.145164Z",
     "end_time": "2024-08-11T18:03:52.202025Z"
    }
   },
   "execution_count": 55,
   "outputs": [
    {
     "data": {
      "text/plain": "region     North     South    \nmonth        Feb Jan   Feb Jan\nproduct_id                    \n1             12  10    18  15\n2             22  20    28  25",
      "text/html": "<div>\n<style scoped>\n    .dataframe tbody tr th:only-of-type {\n        vertical-align: middle;\n    }\n\n    .dataframe tbody tr th {\n        vertical-align: top;\n    }\n\n    .dataframe thead tr th {\n        text-align: left;\n    }\n\n    .dataframe thead tr:last-of-type th {\n        text-align: right;\n    }\n</style>\n<table border=\"1\" class=\"dataframe\">\n  <thead>\n    <tr>\n      <th>region</th>\n      <th colspan=\"2\" halign=\"left\">North</th>\n      <th colspan=\"2\" halign=\"left\">South</th>\n    </tr>\n    <tr>\n      <th>month</th>\n      <th>Feb</th>\n      <th>Jan</th>\n      <th>Feb</th>\n      <th>Jan</th>\n    </tr>\n    <tr>\n      <th>product_id</th>\n      <th></th>\n      <th></th>\n      <th></th>\n      <th></th>\n    </tr>\n  </thead>\n  <tbody>\n    <tr>\n      <th>1</th>\n      <td>12</td>\n      <td>10</td>\n      <td>18</td>\n      <td>15</td>\n    </tr>\n    <tr>\n      <th>2</th>\n      <td>22</td>\n      <td>20</td>\n      <td>28</td>\n      <td>25</td>\n    </tr>\n  </tbody>\n</table>\n</div>"
     },
     "execution_count": 55,
     "metadata": {},
     "output_type": "execute_result"
    }
   ]
  }
 ]
}
