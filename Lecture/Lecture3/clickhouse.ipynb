{
 "cells": [
  {
   "cell_type": "code",
   "execution_count": null,
   "id": "b433ead3",
   "metadata": {},
   "outputs": [],
   "source": [
    "!pip install docker"
   ]
  },
  {
   "cell_type": "code",
   "execution_count": null,
   "id": "5f0679c2",
   "metadata": {},
   "outputs": [],
   "source": [
    "!pip install clickhouse_driver"
   ]
  },
  {
   "cell_type": "code",
   "execution_count": 1,
   "id": "fe625436",
   "metadata": {},
   "outputs": [
    {
     "name": "stdout",
     "output_type": "stream",
     "text": [
      "7be3f4c654814d941ef9100b80caa9b14b45dc7ae82e1d45637c3a252593ca76\r\n"
     ]
    }
   ],
   "source": [
    "!docker run -d --name clickhouse-server --ulimit nofile=262144:262144 -p 9000:9000 yandex/clickhouse-server"
   ]
  },
  {
   "cell_type": "code",
   "execution_count": 2,
   "id": "7f8a5544",
   "metadata": {},
   "outputs": [
    {
     "name": "stdout",
     "output_type": "stream",
     "text": [
      "[]\n"
     ]
    }
   ],
   "source": [
    "from clickhouse_driver import Client\n",
    "\n",
    "client = Client(host='localhost',  # Use 'localhost' or '127.0.0.1' for a local server\n",
    "                user='default',    # Default user, adjust if you've changed the user\n",
    "                password='',       # Default installation has no password for 'default' user\n",
    "                port=9000)         # Default TCP port for ClickHouse\n",
    "\n",
    "# Attempt to execute a query\n",
    "try:\n",
    "    result = client.execute('SHOW TABLES')\n",
    "    print(result)\n",
    "except Exception as e:\n",
    "    print(f\"Encountered an error: {e}\")"
   ]
  },
  {
   "cell_type": "code",
   "execution_count": 3,
   "id": "b6d5a7ee",
   "metadata": {},
   "outputs": [
    {
     "data": {
      "text/plain": [
       "[]"
      ]
     },
     "execution_count": 3,
     "metadata": {},
     "output_type": "execute_result"
    }
   ],
   "source": [
    "client.execute('SHOW TABLES')"
   ]
  },
  {
   "cell_type": "code",
   "execution_count": 4,
   "id": "7504821b",
   "metadata": {},
   "outputs": [
    {
     "data": {
      "text/plain": [
       "[]"
      ]
     },
     "execution_count": 4,
     "metadata": {},
     "output_type": "execute_result"
    }
   ],
   "source": [
    "client.execute (\n",
    "'''\n",
    "CREATE TABLE trips\n",
    "(\n",
    "    `trip_id` UInt32,\n",
    "    `vendor_id` Enum8('1' = 1, '2' = 2, '3' = 3, '4' = 4, 'CMT' = 5, 'VTS' = 6, 'DDS' = 7, 'B02512' = 10, 'B02598' = 11, 'B02617' = 12, 'B02682' = 13, 'B02764' = 14, '' = 15),\n",
    "    `pickup_date` Date,\n",
    "    `pickup_datetime` DateTime,\n",
    "    `dropoff_date` Date,\n",
    "    `dropoff_datetime` DateTime,\n",
    "    `store_and_fwd_flag` UInt8,\n",
    "    `rate_code_id` UInt8,\n",
    "    `pickup_longitude` Float64,\n",
    "    `pickup_latitude` Float64,\n",
    "    `dropoff_longitude` Float64,\n",
    "    `dropoff_latitude` Float64,\n",
    "    `passenger_count` UInt8,\n",
    "    `trip_distance` Float64,\n",
    "    `fare_amount` Float32,\n",
    "    `extra` Float32,\n",
    "    `mta_tax` Float32,\n",
    "    `tip_amount` Float32,\n",
    "    `tolls_amount` Float32,\n",
    "    `ehail_fee` Float32,\n",
    "    `improvement_surcharge` Float32,\n",
    "    `total_amount` Float32,\n",
    "    `payment_type` Enum8('UNK' = 0, 'CSH' = 1, 'CRE' = 2, 'NOC' = 3, 'DIS' = 4),\n",
    "    `trip_type` UInt8,\n",
    "    `pickup` FixedString(25),\n",
    "    `dropoff` FixedString(25),\n",
    "    `cab_type` Enum8('yellow' = 1, 'green' = 2, 'uber' = 3),\n",
    "    `pickup_nyct2010_gid` Int8,\n",
    "    `pickup_ctlabel` Float32,\n",
    "    `pickup_borocode` Int8,\n",
    "    `pickup_ct2010` String,\n",
    "    `pickup_boroct2010` String,\n",
    "    `pickup_cdeligibil` String,\n",
    "    `pickup_ntacode` FixedString(4),\n",
    "    `pickup_ntaname` String,\n",
    "    `pickup_puma` UInt16,\n",
    "    `dropoff_nyct2010_gid` UInt8,\n",
    "    `dropoff_ctlabel` Float32,\n",
    "    `dropoff_borocode` UInt8,\n",
    "    `dropoff_ct2010` String,\n",
    "    `dropoff_boroct2010` String,\n",
    "    `dropoff_cdeligibil` String,\n",
    "    `dropoff_ntacode` FixedString(4),\n",
    "    `dropoff_ntaname` String,\n",
    "    `dropoff_puma` UInt16\n",
    ")\n",
    "ENGINE = MergeTree\n",
    "PARTITION BY toYYYYMM(pickup_date)\n",
    "ORDER BY pickup_datetime;\n",
    "'''\n",
    ")"
   ]
  },
  {
   "cell_type": "code",
   "execution_count": 5,
   "id": "96ba8f84",
   "metadata": {},
   "outputs": [
    {
     "data": {
      "text/plain": [
       "[('trips',)]"
      ]
     },
     "execution_count": 5,
     "metadata": {},
     "output_type": "execute_result"
    }
   ],
   "source": [
    "client.execute('SHOW TABLES')"
   ]
  },
  {
   "cell_type": "code",
   "execution_count": null,
   "id": "a6f0f55e",
   "metadata": {},
   "outputs": [],
   "source": [
    "client.execute(\n",
    "'''\n",
    "INSERT INTO trips\n",
    "SELECT * FROM s3(\n",
    "    'https://datasets-documentation.s3.eu-west-3.amazonaws.com/nyc-taxi/trips_{1..2}.gz',\n",
    "    'TabSeparatedWithNames', \"\n",
    "    `trip_id` UInt32,\n",
    "    `vendor_id` Enum8('1' = 1, '2' = 2, '3' = 3, '4' = 4, 'CMT' = 5, 'VTS' = 6, 'DDS' = 7, 'B02512' = 10, 'B02598' = 11, 'B02617' = 12, 'B02682' = 13, 'B02764' = 14, '' = 15),\n",
    "    `pickup_date` Date,\n",
    "    `pickup_datetime` DateTime,\n",
    "    `dropoff_date` Date,\n",
    "    `dropoff_datetime` DateTime,\n",
    "    `store_and_fwd_flag` UInt8,\n",
    "    `rate_code_id` UInt8,\n",
    "    `pickup_longitude` Float64,\n",
    "    `pickup_latitude` Float64,\n",
    "    `dropoff_longitude` Float64,\n",
    "    `dropoff_latitude` Float64,\n",
    "    `passenger_count` UInt8,\n",
    "    `trip_distance` Float64,\n",
    "    `fare_amount` Float32,\n",
    "    `extra` Float32,\n",
    "    `mta_tax` Float32,\n",
    "    `tip_amount` Float32,\n",
    "    `tolls_amount` Float32,\n",
    "    `ehail_fee` Float32,\n",
    "    `improvement_surcharge` Float32,\n",
    "    `total_amount` Float32,\n",
    "    `payment_type` Enum8('UNK' = 0, 'CSH' = 1, 'CRE' = 2, 'NOC' = 3, 'DIS' = 4),\n",
    "    `trip_type` UInt8,\n",
    "    `pickup` FixedString(25),\n",
    "    `dropoff` FixedString(25),\n",
    "    `cab_type` Enum8('yellow' = 1, 'green' = 2, 'uber' = 3),\n",
    "    `pickup_nyct2010_gid` Int8,\n",
    "    `pickup_ctlabel` Float32,\n",
    "    `pickup_borocode` Int8,\n",
    "    `pickup_ct2010` String,\n",
    "    `pickup_boroct2010` String,\n",
    "    `pickup_cdeligibil` String,\n",
    "    `pickup_ntacode` FixedString(4),\n",
    "    `pickup_ntaname` String,\n",
    "    `pickup_puma` UInt16,\n",
    "    `dropoff_nyct2010_gid` UInt8,\n",
    "    `dropoff_ctlabel` Float32,\n",
    "    `dropoff_borocode` UInt8,\n",
    "    `dropoff_ct2010` String,\n",
    "    `dropoff_boroct2010` String,\n",
    "    `dropoff_cdeligibil` String,\n",
    "    `dropoff_ntacode` FixedString(4),\n",
    "    `dropoff_ntaname` String,\n",
    "    `dropoff_puma` UInt16\n",
    "\")\n",
    "'''\n",
    ")"
   ]
  },
  {
   "cell_type": "code",
   "execution_count": null,
   "id": "3808ee71",
   "metadata": {},
   "outputs": [],
   "source": [
    "client.execute(\"SELECT count() FROM trips\")"
   ]
  },
  {
   "cell_type": "code",
   "execution_count": null,
   "id": "d8853abd",
   "metadata": {},
   "outputs": [],
   "source": [
    "tip_amount = client.execute(\"SELECT round(avg(tip_amount), 2) FROM trips\")  \n",
    "print(tip_amount)"
   ]
  },
  {
   "cell_type": "code",
   "execution_count": null,
   "id": "b33a266f",
   "metadata": {},
   "outputs": [],
   "source": [
    "type(tip_amount)"
   ]
  },
  {
   "cell_type": "code",
   "execution_count": null,
   "id": "8c49efc8",
   "metadata": {},
   "outputs": [],
   "source": [
    "tip_amount[0][0]"
   ]
  },
  {
   "cell_type": "code",
   "execution_count": null,
   "id": "08319d8d",
   "metadata": {},
   "outputs": [],
   "source": [
    "avg_price = client.execute(\n",
    "'''\n",
    "SELECT\n",
    "    passenger_count,\n",
    "    ceil(avg(total_amount),2) AS average_total_amount\n",
    "FROM trips\n",
    "GROUP BY passenger_count\n",
    "'''\n",
    ")"
   ]
  },
  {
   "cell_type": "code",
   "execution_count": null,
   "id": "860285a9",
   "metadata": {},
   "outputs": [],
   "source": [
    "import pandas as pd"
   ]
  },
  {
   "cell_type": "code",
   "execution_count": null,
   "id": "9af81d2b",
   "metadata": {},
   "outputs": [],
   "source": [
    "df = pd.DataFrame(avg_price, columns=(\"passenger_count\", \"average_total_amount\"))"
   ]
  },
  {
   "cell_type": "code",
   "execution_count": null,
   "id": "ef12f98b",
   "metadata": {},
   "outputs": [],
   "source": [
    "df"
   ]
  },
  {
   "cell_type": "code",
   "execution_count": null,
   "id": "9a5a87d7",
   "metadata": {},
   "outputs": [],
   "source": [
    "pickup_num = client.execute(\n",
    "'''\n",
    "SELECT\n",
    "    pickup_date,\n",
    "    pickup_ntaname,\n",
    "    SUM(1) AS number_of_trips\n",
    "FROM trips\n",
    "GROUP BY pickup_date, pickup_ntaname\n",
    "ORDER BY pickup_date ASC\n",
    "'''\n",
    ")"
   ]
  },
  {
   "cell_type": "code",
   "execution_count": null,
   "id": "202fc249",
   "metadata": {},
   "outputs": [],
   "source": [
    "df = pd.DataFrame(pickup_num, columns=(\"pickup_date\", \"pickup_ntaname\", \"number_of_trips\"))\n",
    "df"
   ]
  },
  {
   "cell_type": "code",
   "execution_count": null,
   "id": "3bbc8896",
   "metadata": {},
   "outputs": [],
   "source": [
    "trip_minutes = client.execute(\n",
    "'''\n",
    "SELECT\n",
    "    avg(tip_amount) AS avg_tip,\n",
    "    avg(fare_amount) AS avg_fare,\n",
    "    avg(passenger_count) AS avg_passenger,\n",
    "    count() AS count,\n",
    "    truncate(date_diff('second', pickup_datetime, dropoff_datetime)/3600) as trip_minutes\n",
    "FROM trips\n",
    "WHERE trip_minutes > 0\n",
    "GROUP BY trip_minutes\n",
    "ORDER BY trip_minutes DESC\n",
    "'''\n",
    ")"
   ]
  },
  {
   "cell_type": "code",
   "execution_count": null,
   "id": "d47682e2",
   "metadata": {},
   "outputs": [],
   "source": [
    "df = pd.DataFrame(trip_minutes, columns=(\"avg_tip\", \"avg_fare\", \"avg_passenger\", \"count\", \"trip_minutes\"))\n",
    "df"
   ]
  },
  {
   "cell_type": "code",
   "execution_count": null,
   "id": "93a48c51",
   "metadata": {},
   "outputs": [],
   "source": []
  }
 ],
 "metadata": {
  "kernelspec": {
   "display_name": "Python 3 (ipykernel)",
   "language": "python",
   "name": "python3"
  },
  "language_info": {
   "codemirror_mode": {
    "name": "ipython",
    "version": 3
   },
   "file_extension": ".py",
   "mimetype": "text/x-python",
   "name": "python",
   "nbconvert_exporter": "python",
   "pygments_lexer": "ipython3",
   "version": "3.9.15"
  }
 },
 "nbformat": 4,
 "nbformat_minor": 5
}
