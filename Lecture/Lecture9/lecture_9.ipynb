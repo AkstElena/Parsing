{
 "nbformat": 4,
 "nbformat_minor": 0,
 "metadata": {
  "colab": {
   "provenance": [],
   "authorship_tag": "ABX9TyPA/Ad5KGhaNR6mMrg+88NH"
  },
  "kernelspec": {
   "name": "python3",
   "language": "python",
   "display_name": "Python 3 (ipykernel)"
  },
  "language_info": {
   "name": "python"
  }
 },
 "cells": [
  {
   "cell_type": "markdown",
   "source": [
    "# Разметка на основе правил"
   ],
   "metadata": {
    "id": "Lf0Nfyct7Jeu"
   }
  },
  {
   "cell_type": "code",
   "source": [
    "import pandas as pd\n",
    "import numpy as np\n",
    "# pip install nltk\n",
    "import nltk  # библиотека для машинного обучения\n",
    "nltk.download('punkt')\n",
    "nltk.download('punkt_tab')\n"
   ],
   "metadata": {
    "colab": {
     "base_uri": "https://localhost:8080/"
    },
    "id": "sy7070Mj2Iza",
    "executionInfo": {
     "status": "ok",
     "timestamp": 1680868562362,
     "user_tz": -180,
     "elapsed": 2441,
     "user": {
      "displayName": "Петр Рубин",
      "userId": "04613233041024729335"
     }
    },
    "outputId": "3ecd28af-25f3-48fc-f5c3-4982b7c07ead",
    "ExecuteTime": {
     "start_time": "2024-08-14T20:33:58.511661Z",
     "end_time": "2024-08-14T20:33:59.215914Z"
    }
   },
   "execution_count": 5,
   "outputs": [
    {
     "name": "stderr",
     "output_type": "stream",
     "text": [
      "[nltk_data] Downloading package punkt to\n",
      "[nltk_data]     C:\\Users\\akste\\AppData\\Roaming\\nltk_data...\n",
      "[nltk_data]   Package punkt is already up-to-date!\n",
      "[nltk_data] Downloading package punkt_tab to\n",
      "[nltk_data]     C:\\Users\\akste\\AppData\\Roaming\\nltk_data...\n",
      "[nltk_data]   Unzipping tokenizers\\punkt_tab.zip.\n"
     ]
    },
    {
     "data": {
      "text/plain": "True"
     },
     "execution_count": 5,
     "metadata": {},
     "output_type": "execute_result"
    }
   ]
  },
  {
   "cell_type": "code",
   "source": [
    "# Определение набора положительных и отрицательных слов\n",
    "positive_words = ['happy', 'excited', 'awesome']\n",
    "negative_words = ['disappointed', 'frustrated', 'terrible']"
   ],
   "metadata": {
    "id": "eyeJ0Vcw2SCA",
    "executionInfo": {
     "status": "ok",
     "timestamp": 1680868582477,
     "user_tz": -180,
     "elapsed": 355,
     "user": {
      "displayName": "Петр Рубин",
      "userId": "04613233041024729335"
     }
    },
    "ExecuteTime": {
     "start_time": "2024-08-14T20:34:02.687877Z",
     "end_time": "2024-08-14T20:34:02.697891Z"
    }
   },
   "execution_count": 6,
   "outputs": []
  },
  {
   "cell_type": "code",
   "execution_count": 7,
   "metadata": {
    "id": "toRBFx0I2DQW",
    "executionInfo": {
     "status": "ok",
     "timestamp": 1680868660961,
     "user_tz": -180,
     "elapsed": 330,
     "user": {
      "displayName": "Петр Рубин",
      "userId": "04613233041024729335"
     }
    },
    "ExecuteTime": {
     "start_time": "2024-08-14T20:34:04.371435Z",
     "end_time": "2024-08-14T20:34:04.381959Z"
    }
   },
   "outputs": [],
   "source": [
    "# Функция для присвоения метки настроения на основе наличия положительных или отрицательных слов\n",
    "def get_sentiment(text):\n",
    "    # Токенизация текста на отдельные слова\n",
    "    words = nltk.word_tokenize(text.lower())\n",
    "    # Подсчет количества положительных и отрицательных слов\n",
    "    num_positive = sum([1 for word in words if word in positive_words])\n",
    "    num_negative = sum([1 for word in words if word in negative_words])\n",
    "    # Присвоение метки на основе чистой оценки настроения\n",
    "    if num_positive > num_negative:\n",
    "        return 'positive'\n",
    "    elif num_negative > num_positive:\n",
    "        return 'negative'\n",
    "    else:\n",
    "        return 'neutral'"
   ]
  },
  {
   "cell_type": "code",
   "source": [
    "# Тестирование функции\n",
    "text1 = \"I'm so happy today!\"\n",
    "text2 = \"I'm so frustrated with this service.\"\n",
    "text3 = \"This movie was okay, I guess.\"\n",
    "print(get_sentiment(text1))\n",
    "print(get_sentiment(text2))\n",
    "print(get_sentiment(text3))"
   ],
   "metadata": {
    "colab": {
     "base_uri": "https://localhost:8080/"
    },
    "id": "PzHChXlE2rCU",
    "executionInfo": {
     "status": "ok",
     "timestamp": 1680868702071,
     "user_tz": -180,
     "elapsed": 472,
     "user": {
      "displayName": "Петр Рубин",
      "userId": "04613233041024729335"
     }
    },
    "outputId": "6e04aa67-d3ac-4113-87f7-62bd55d1104a",
    "ExecuteTime": {
     "start_time": "2024-08-14T20:34:13.613325Z",
     "end_time": "2024-08-14T20:34:13.693618Z"
    }
   },
   "execution_count": 9,
   "outputs": [
    {
     "name": "stdout",
     "output_type": "stream",
     "text": [
      "positive\n",
      "negative\n",
      "neutral\n"
     ]
    }
   ]
  },
  {
   "cell_type": "code",
   "source": [
    "# Загрузка датасета твитов\n",
    "tweets = pd.read_csv('tweets.csv')"
   ],
   "metadata": {
    "id": "zNtg01ZA7CJT",
    "executionInfo": {
     "status": "ok",
     "timestamp": 1680868738447,
     "user_tz": -180,
     "elapsed": 283,
     "user": {
      "displayName": "Петр Рубин",
      "userId": "04613233041024729335"
     }
    },
    "ExecuteTime": {
     "start_time": "2024-08-14T20:34:40.562075Z",
     "end_time": "2024-08-14T20:34:40.668343Z"
    }
   },
   "execution_count": 10,
   "outputs": []
  },
  {
   "cell_type": "code",
   "source": [
    "tweets.head()"
   ],
   "metadata": {
    "colab": {
     "base_uri": "https://localhost:8080/",
     "height": 565
    },
    "id": "Z11cXlQT7EtL",
    "executionInfo": {
     "status": "ok",
     "timestamp": 1680868744403,
     "user_tz": -180,
     "elapsed": 971,
     "user": {
      "displayName": "Петр Рубин",
      "userId": "04613233041024729335"
     }
    },
    "outputId": "6cab90d3-8ba4-42af-be30-4b2d8d053a7d",
    "ExecuteTime": {
     "start_time": "2024-08-14T20:34:43.521513Z",
     "end_time": "2024-08-14T20:34:43.544097Z"
    }
   },
   "execution_count": 11,
   "outputs": [
    {
     "data": {
      "text/plain": "                    id             user_name              user_location  \\\n0  1340539111971516416            Rachel Roh  La Crescenta-Montrose, CA   \n1  1338158543359250433           Albert Fong          San Francisco, CA   \n2  1337858199140118533              eli🇱🇹🇪🇺👌                   Your Bed   \n3  1337855739918835717         Charles Adler     Vancouver, BC - Canada   \n4  1337854064604966912  Citizen News Channel                        NaN   \n\n                                    user_description         user_created  \\\n0  Aggregator of Asian American news; scanning di...  2009-04-08 17:52:46   \n1  Marketing dude, tech geek, heavy metal & '80s ...  2009-09-21 15:27:30   \n2                                     heil, hydra 🖐☺  2020-06-25 23:30:28   \n3  Hosting \"CharlesAdlerTonight\" Global News Radi...  2008-09-10 11:28:53   \n4  Citizen News Channel bringing you an alternati...  2020-04-23 17:58:42   \n\n   user_followers  user_friends  user_favourites  user_verified  \\\n0             405          1692             3247          False   \n1             834           666              178          False   \n2              10            88              155          False   \n3           49165          3933            21853           True   \n4             152           580             1473          False   \n\n                  date                                               text  \\\n0  2020-12-20 06:06:44  Same folks said daikon paste could treat a cyt...   \n1  2020-12-13 16:27:13  While the world has been on the wrong side of ...   \n2  2020-12-12 20:33:45  #coronavirus #SputnikV #AstraZeneca #PfizerBio...   \n3  2020-12-12 20:23:59  Facts are immutable, Senator, even when you're...   \n4  2020-12-12 20:17:19  Explain to me again why we need a vaccine @Bor...   \n\n                                            hashtags               source  \\\n0                                 ['PfizerBioNTech']  Twitter for Android   \n1                                                NaN      Twitter Web App   \n2  ['coronavirus', 'SputnikV', 'AstraZeneca', 'Pf...  Twitter for Android   \n3                                                NaN      Twitter Web App   \n4     ['whereareallthesickpeople', 'PfizerBioNTech']   Twitter for iPhone   \n\n   retweets  favorites  is_retweet  \n0         0          0       False  \n1         1          1       False  \n2         0          0       False  \n3       446       2129       False  \n4         0          0       False  ",
      "text/html": "<div>\n<style scoped>\n    .dataframe tbody tr th:only-of-type {\n        vertical-align: middle;\n    }\n\n    .dataframe tbody tr th {\n        vertical-align: top;\n    }\n\n    .dataframe thead th {\n        text-align: right;\n    }\n</style>\n<table border=\"1\" class=\"dataframe\">\n  <thead>\n    <tr style=\"text-align: right;\">\n      <th></th>\n      <th>id</th>\n      <th>user_name</th>\n      <th>user_location</th>\n      <th>user_description</th>\n      <th>user_created</th>\n      <th>user_followers</th>\n      <th>user_friends</th>\n      <th>user_favourites</th>\n      <th>user_verified</th>\n      <th>date</th>\n      <th>text</th>\n      <th>hashtags</th>\n      <th>source</th>\n      <th>retweets</th>\n      <th>favorites</th>\n      <th>is_retweet</th>\n    </tr>\n  </thead>\n  <tbody>\n    <tr>\n      <th>0</th>\n      <td>1340539111971516416</td>\n      <td>Rachel Roh</td>\n      <td>La Crescenta-Montrose, CA</td>\n      <td>Aggregator of Asian American news; scanning di...</td>\n      <td>2009-04-08 17:52:46</td>\n      <td>405</td>\n      <td>1692</td>\n      <td>3247</td>\n      <td>False</td>\n      <td>2020-12-20 06:06:44</td>\n      <td>Same folks said daikon paste could treat a cyt...</td>\n      <td>['PfizerBioNTech']</td>\n      <td>Twitter for Android</td>\n      <td>0</td>\n      <td>0</td>\n      <td>False</td>\n    </tr>\n    <tr>\n      <th>1</th>\n      <td>1338158543359250433</td>\n      <td>Albert Fong</td>\n      <td>San Francisco, CA</td>\n      <td>Marketing dude, tech geek, heavy metal &amp; '80s ...</td>\n      <td>2009-09-21 15:27:30</td>\n      <td>834</td>\n      <td>666</td>\n      <td>178</td>\n      <td>False</td>\n      <td>2020-12-13 16:27:13</td>\n      <td>While the world has been on the wrong side of ...</td>\n      <td>NaN</td>\n      <td>Twitter Web App</td>\n      <td>1</td>\n      <td>1</td>\n      <td>False</td>\n    </tr>\n    <tr>\n      <th>2</th>\n      <td>1337858199140118533</td>\n      <td>eli🇱🇹🇪🇺👌</td>\n      <td>Your Bed</td>\n      <td>heil, hydra 🖐☺</td>\n      <td>2020-06-25 23:30:28</td>\n      <td>10</td>\n      <td>88</td>\n      <td>155</td>\n      <td>False</td>\n      <td>2020-12-12 20:33:45</td>\n      <td>#coronavirus #SputnikV #AstraZeneca #PfizerBio...</td>\n      <td>['coronavirus', 'SputnikV', 'AstraZeneca', 'Pf...</td>\n      <td>Twitter for Android</td>\n      <td>0</td>\n      <td>0</td>\n      <td>False</td>\n    </tr>\n    <tr>\n      <th>3</th>\n      <td>1337855739918835717</td>\n      <td>Charles Adler</td>\n      <td>Vancouver, BC - Canada</td>\n      <td>Hosting \"CharlesAdlerTonight\" Global News Radi...</td>\n      <td>2008-09-10 11:28:53</td>\n      <td>49165</td>\n      <td>3933</td>\n      <td>21853</td>\n      <td>True</td>\n      <td>2020-12-12 20:23:59</td>\n      <td>Facts are immutable, Senator, even when you're...</td>\n      <td>NaN</td>\n      <td>Twitter Web App</td>\n      <td>446</td>\n      <td>2129</td>\n      <td>False</td>\n    </tr>\n    <tr>\n      <th>4</th>\n      <td>1337854064604966912</td>\n      <td>Citizen News Channel</td>\n      <td>NaN</td>\n      <td>Citizen News Channel bringing you an alternati...</td>\n      <td>2020-04-23 17:58:42</td>\n      <td>152</td>\n      <td>580</td>\n      <td>1473</td>\n      <td>False</td>\n      <td>2020-12-12 20:17:19</td>\n      <td>Explain to me again why we need a vaccine @Bor...</td>\n      <td>['whereareallthesickpeople', 'PfizerBioNTech']</td>\n      <td>Twitter for iPhone</td>\n      <td>0</td>\n      <td>0</td>\n      <td>False</td>\n    </tr>\n  </tbody>\n</table>\n</div>"
     },
     "execution_count": 11,
     "metadata": {},
     "output_type": "execute_result"
    }
   ]
  },
  {
   "cell_type": "code",
   "source": [
    "# pip install textblob - библиотека питон для естественного языка, например для анализа настроения\n",
    "from textblob import TextBlob"
   ],
   "metadata": {
    "id": "_sCHSV6W2x-U",
    "executionInfo": {
     "status": "ok",
     "timestamp": 1680868804488,
     "user_tz": -180,
     "elapsed": 856,
     "user": {
      "displayName": "Петр Рубин",
      "userId": "04613233041024729335"
     }
    },
    "ExecuteTime": {
     "start_time": "2024-08-14T20:35:30.469413Z",
     "end_time": "2024-08-14T20:35:30.491515Z"
    }
   },
   "execution_count": 12,
   "outputs": []
  },
  {
   "cell_type": "code",
   "source": [
    "# Определение функции для получения полярности настроения твита\n",
    "def get_sentiment(tweet):\n",
    "    blob = TextBlob(tweet)\n",
    "    return blob.sentiment.polarity"
   ],
   "metadata": {
    "id": "bIgxapMu7I0W",
    "executionInfo": {
     "status": "ok",
     "timestamp": 1680868870742,
     "user_tz": -180,
     "elapsed": 414,
     "user": {
      "displayName": "Петр Рубин",
      "userId": "04613233041024729335"
     }
    },
    "ExecuteTime": {
     "start_time": "2024-08-14T20:35:49.610502Z",
     "end_time": "2024-08-14T20:35:49.623015Z"
    }
   },
   "execution_count": 13,
   "outputs": []
  },
  {
   "cell_type": "code",
   "source": [
    "# Применение функции к столбцу 'text' датасета для получения полярности настроения каждого твита\n",
    "tweets['sentiment'] = tweets['text'].apply(get_sentiment)"
   ],
   "metadata": {
    "id": "9OC5x79779qY",
    "executionInfo": {
     "status": "ok",
     "timestamp": 1680868893162,
     "user_tz": -180,
     "elapsed": 3786,
     "user": {
      "displayName": "Петр Рубин",
      "userId": "04613233041024729335"
     }
    },
    "ExecuteTime": {
     "start_time": "2024-08-14T20:35:51.797146Z",
     "end_time": "2024-08-14T20:35:53.782724Z"
    }
   },
   "execution_count": 14,
   "outputs": []
  },
  {
   "cell_type": "code",
   "source": [
    "tweets.head()  # добавился столбец, где указаны оценки настроения от -1 до 1"
   ],
   "metadata": {
    "colab": {
     "base_uri": "https://localhost:8080/",
     "height": 565
    },
    "id": "MVOGiyi1mT5M",
    "executionInfo": {
     "status": "ok",
     "timestamp": 1680868994435,
     "user_tz": -180,
     "elapsed": 382,
     "user": {
      "displayName": "Петр Рубин",
      "userId": "04613233041024729335"
     }
    },
    "outputId": "32c09889-7a34-4d7a-eba6-0c284ed2862a",
    "ExecuteTime": {
     "start_time": "2024-08-14T20:35:55.887002Z",
     "end_time": "2024-08-14T20:35:55.901131Z"
    }
   },
   "execution_count": 15,
   "outputs": [
    {
     "data": {
      "text/plain": "                    id             user_name              user_location  \\\n0  1340539111971516416            Rachel Roh  La Crescenta-Montrose, CA   \n1  1338158543359250433           Albert Fong          San Francisco, CA   \n2  1337858199140118533              eli🇱🇹🇪🇺👌                   Your Bed   \n3  1337855739918835717         Charles Adler     Vancouver, BC - Canada   \n4  1337854064604966912  Citizen News Channel                        NaN   \n\n                                    user_description         user_created  \\\n0  Aggregator of Asian American news; scanning di...  2009-04-08 17:52:46   \n1  Marketing dude, tech geek, heavy metal & '80s ...  2009-09-21 15:27:30   \n2                                     heil, hydra 🖐☺  2020-06-25 23:30:28   \n3  Hosting \"CharlesAdlerTonight\" Global News Radi...  2008-09-10 11:28:53   \n4  Citizen News Channel bringing you an alternati...  2020-04-23 17:58:42   \n\n   user_followers  user_friends  user_favourites  user_verified  \\\n0             405          1692             3247          False   \n1             834           666              178          False   \n2              10            88              155          False   \n3           49165          3933            21853           True   \n4             152           580             1473          False   \n\n                  date                                               text  \\\n0  2020-12-20 06:06:44  Same folks said daikon paste could treat a cyt...   \n1  2020-12-13 16:27:13  While the world has been on the wrong side of ...   \n2  2020-12-12 20:33:45  #coronavirus #SputnikV #AstraZeneca #PfizerBio...   \n3  2020-12-12 20:23:59  Facts are immutable, Senator, even when you're...   \n4  2020-12-12 20:17:19  Explain to me again why we need a vaccine @Bor...   \n\n                                            hashtags               source  \\\n0                                 ['PfizerBioNTech']  Twitter for Android   \n1                                                NaN      Twitter Web App   \n2  ['coronavirus', 'SputnikV', 'AstraZeneca', 'Pf...  Twitter for Android   \n3                                                NaN      Twitter Web App   \n4     ['whereareallthesickpeople', 'PfizerBioNTech']   Twitter for iPhone   \n\n   retweets  favorites  is_retweet  sentiment  \n0         0          0       False       0.00  \n1         1          1       False      -0.50  \n2         0          0       False       0.00  \n3       446       2129       False      -0.05  \n4         0          0       False       0.00  ",
      "text/html": "<div>\n<style scoped>\n    .dataframe tbody tr th:only-of-type {\n        vertical-align: middle;\n    }\n\n    .dataframe tbody tr th {\n        vertical-align: top;\n    }\n\n    .dataframe thead th {\n        text-align: right;\n    }\n</style>\n<table border=\"1\" class=\"dataframe\">\n  <thead>\n    <tr style=\"text-align: right;\">\n      <th></th>\n      <th>id</th>\n      <th>user_name</th>\n      <th>user_location</th>\n      <th>user_description</th>\n      <th>user_created</th>\n      <th>user_followers</th>\n      <th>user_friends</th>\n      <th>user_favourites</th>\n      <th>user_verified</th>\n      <th>date</th>\n      <th>text</th>\n      <th>hashtags</th>\n      <th>source</th>\n      <th>retweets</th>\n      <th>favorites</th>\n      <th>is_retweet</th>\n      <th>sentiment</th>\n    </tr>\n  </thead>\n  <tbody>\n    <tr>\n      <th>0</th>\n      <td>1340539111971516416</td>\n      <td>Rachel Roh</td>\n      <td>La Crescenta-Montrose, CA</td>\n      <td>Aggregator of Asian American news; scanning di...</td>\n      <td>2009-04-08 17:52:46</td>\n      <td>405</td>\n      <td>1692</td>\n      <td>3247</td>\n      <td>False</td>\n      <td>2020-12-20 06:06:44</td>\n      <td>Same folks said daikon paste could treat a cyt...</td>\n      <td>['PfizerBioNTech']</td>\n      <td>Twitter for Android</td>\n      <td>0</td>\n      <td>0</td>\n      <td>False</td>\n      <td>0.00</td>\n    </tr>\n    <tr>\n      <th>1</th>\n      <td>1338158543359250433</td>\n      <td>Albert Fong</td>\n      <td>San Francisco, CA</td>\n      <td>Marketing dude, tech geek, heavy metal &amp; '80s ...</td>\n      <td>2009-09-21 15:27:30</td>\n      <td>834</td>\n      <td>666</td>\n      <td>178</td>\n      <td>False</td>\n      <td>2020-12-13 16:27:13</td>\n      <td>While the world has been on the wrong side of ...</td>\n      <td>NaN</td>\n      <td>Twitter Web App</td>\n      <td>1</td>\n      <td>1</td>\n      <td>False</td>\n      <td>-0.50</td>\n    </tr>\n    <tr>\n      <th>2</th>\n      <td>1337858199140118533</td>\n      <td>eli🇱🇹🇪🇺👌</td>\n      <td>Your Bed</td>\n      <td>heil, hydra 🖐☺</td>\n      <td>2020-06-25 23:30:28</td>\n      <td>10</td>\n      <td>88</td>\n      <td>155</td>\n      <td>False</td>\n      <td>2020-12-12 20:33:45</td>\n      <td>#coronavirus #SputnikV #AstraZeneca #PfizerBio...</td>\n      <td>['coronavirus', 'SputnikV', 'AstraZeneca', 'Pf...</td>\n      <td>Twitter for Android</td>\n      <td>0</td>\n      <td>0</td>\n      <td>False</td>\n      <td>0.00</td>\n    </tr>\n    <tr>\n      <th>3</th>\n      <td>1337855739918835717</td>\n      <td>Charles Adler</td>\n      <td>Vancouver, BC - Canada</td>\n      <td>Hosting \"CharlesAdlerTonight\" Global News Radi...</td>\n      <td>2008-09-10 11:28:53</td>\n      <td>49165</td>\n      <td>3933</td>\n      <td>21853</td>\n      <td>True</td>\n      <td>2020-12-12 20:23:59</td>\n      <td>Facts are immutable, Senator, even when you're...</td>\n      <td>NaN</td>\n      <td>Twitter Web App</td>\n      <td>446</td>\n      <td>2129</td>\n      <td>False</td>\n      <td>-0.05</td>\n    </tr>\n    <tr>\n      <th>4</th>\n      <td>1337854064604966912</td>\n      <td>Citizen News Channel</td>\n      <td>NaN</td>\n      <td>Citizen News Channel bringing you an alternati...</td>\n      <td>2020-04-23 17:58:42</td>\n      <td>152</td>\n      <td>580</td>\n      <td>1473</td>\n      <td>False</td>\n      <td>2020-12-12 20:17:19</td>\n      <td>Explain to me again why we need a vaccine @Bor...</td>\n      <td>['whereareallthesickpeople', 'PfizerBioNTech']</td>\n      <td>Twitter for iPhone</td>\n      <td>0</td>\n      <td>0</td>\n      <td>False</td>\n      <td>0.00</td>\n    </tr>\n  </tbody>\n</table>\n</div>"
     },
     "execution_count": 15,
     "metadata": {},
     "output_type": "execute_result"
    }
   ]
  },
  {
   "cell_type": "code",
   "source": [
    "# Определение функции для присвоения метки настроения на основе оценки полярности настроения\n",
    "def get_sentiment_label(score):\n",
    "    if score > 0:\n",
    "        return 'positive'\n",
    "    elif score < 0:\n",
    "        return 'negative'\n",
    "    else:\n",
    "        return 'neutral'"
   ],
   "metadata": {
    "id": "uk81m24d8C7k",
    "executionInfo": {
     "status": "ok",
     "timestamp": 1680869037833,
     "user_tz": -180,
     "elapsed": 286,
     "user": {
      "displayName": "Петр Рубин",
      "userId": "04613233041024729335"
     }
    },
    "ExecuteTime": {
     "start_time": "2024-08-14T20:38:20.457192Z",
     "end_time": "2024-08-14T20:38:20.473669Z"
    }
   },
   "execution_count": 16,
   "outputs": []
  },
  {
   "cell_type": "code",
   "source": [
    "tweets.head()"
   ],
   "metadata": {
    "id": "KqJgnetj8HW8",
    "ExecuteTime": {
     "start_time": "2024-08-14T20:38:22.916286Z",
     "end_time": "2024-08-14T20:38:22.933572Z"
    }
   },
   "execution_count": 17,
   "outputs": [
    {
     "data": {
      "text/plain": "                    id             user_name              user_location  \\\n0  1340539111971516416            Rachel Roh  La Crescenta-Montrose, CA   \n1  1338158543359250433           Albert Fong          San Francisco, CA   \n2  1337858199140118533              eli🇱🇹🇪🇺👌                   Your Bed   \n3  1337855739918835717         Charles Adler     Vancouver, BC - Canada   \n4  1337854064604966912  Citizen News Channel                        NaN   \n\n                                    user_description         user_created  \\\n0  Aggregator of Asian American news; scanning di...  2009-04-08 17:52:46   \n1  Marketing dude, tech geek, heavy metal & '80s ...  2009-09-21 15:27:30   \n2                                     heil, hydra 🖐☺  2020-06-25 23:30:28   \n3  Hosting \"CharlesAdlerTonight\" Global News Radi...  2008-09-10 11:28:53   \n4  Citizen News Channel bringing you an alternati...  2020-04-23 17:58:42   \n\n   user_followers  user_friends  user_favourites  user_verified  \\\n0             405          1692             3247          False   \n1             834           666              178          False   \n2              10            88              155          False   \n3           49165          3933            21853           True   \n4             152           580             1473          False   \n\n                  date                                               text  \\\n0  2020-12-20 06:06:44  Same folks said daikon paste could treat a cyt...   \n1  2020-12-13 16:27:13  While the world has been on the wrong side of ...   \n2  2020-12-12 20:33:45  #coronavirus #SputnikV #AstraZeneca #PfizerBio...   \n3  2020-12-12 20:23:59  Facts are immutable, Senator, even when you're...   \n4  2020-12-12 20:17:19  Explain to me again why we need a vaccine @Bor...   \n\n                                            hashtags               source  \\\n0                                 ['PfizerBioNTech']  Twitter for Android   \n1                                                NaN      Twitter Web App   \n2  ['coronavirus', 'SputnikV', 'AstraZeneca', 'Pf...  Twitter for Android   \n3                                                NaN      Twitter Web App   \n4     ['whereareallthesickpeople', 'PfizerBioNTech']   Twitter for iPhone   \n\n   retweets  favorites  is_retweet  sentiment  \n0         0          0       False       0.00  \n1         1          1       False      -0.50  \n2         0          0       False       0.00  \n3       446       2129       False      -0.05  \n4         0          0       False       0.00  ",
      "text/html": "<div>\n<style scoped>\n    .dataframe tbody tr th:only-of-type {\n        vertical-align: middle;\n    }\n\n    .dataframe tbody tr th {\n        vertical-align: top;\n    }\n\n    .dataframe thead th {\n        text-align: right;\n    }\n</style>\n<table border=\"1\" class=\"dataframe\">\n  <thead>\n    <tr style=\"text-align: right;\">\n      <th></th>\n      <th>id</th>\n      <th>user_name</th>\n      <th>user_location</th>\n      <th>user_description</th>\n      <th>user_created</th>\n      <th>user_followers</th>\n      <th>user_friends</th>\n      <th>user_favourites</th>\n      <th>user_verified</th>\n      <th>date</th>\n      <th>text</th>\n      <th>hashtags</th>\n      <th>source</th>\n      <th>retweets</th>\n      <th>favorites</th>\n      <th>is_retweet</th>\n      <th>sentiment</th>\n    </tr>\n  </thead>\n  <tbody>\n    <tr>\n      <th>0</th>\n      <td>1340539111971516416</td>\n      <td>Rachel Roh</td>\n      <td>La Crescenta-Montrose, CA</td>\n      <td>Aggregator of Asian American news; scanning di...</td>\n      <td>2009-04-08 17:52:46</td>\n      <td>405</td>\n      <td>1692</td>\n      <td>3247</td>\n      <td>False</td>\n      <td>2020-12-20 06:06:44</td>\n      <td>Same folks said daikon paste could treat a cyt...</td>\n      <td>['PfizerBioNTech']</td>\n      <td>Twitter for Android</td>\n      <td>0</td>\n      <td>0</td>\n      <td>False</td>\n      <td>0.00</td>\n    </tr>\n    <tr>\n      <th>1</th>\n      <td>1338158543359250433</td>\n      <td>Albert Fong</td>\n      <td>San Francisco, CA</td>\n      <td>Marketing dude, tech geek, heavy metal &amp; '80s ...</td>\n      <td>2009-09-21 15:27:30</td>\n      <td>834</td>\n      <td>666</td>\n      <td>178</td>\n      <td>False</td>\n      <td>2020-12-13 16:27:13</td>\n      <td>While the world has been on the wrong side of ...</td>\n      <td>NaN</td>\n      <td>Twitter Web App</td>\n      <td>1</td>\n      <td>1</td>\n      <td>False</td>\n      <td>-0.50</td>\n    </tr>\n    <tr>\n      <th>2</th>\n      <td>1337858199140118533</td>\n      <td>eli🇱🇹🇪🇺👌</td>\n      <td>Your Bed</td>\n      <td>heil, hydra 🖐☺</td>\n      <td>2020-06-25 23:30:28</td>\n      <td>10</td>\n      <td>88</td>\n      <td>155</td>\n      <td>False</td>\n      <td>2020-12-12 20:33:45</td>\n      <td>#coronavirus #SputnikV #AstraZeneca #PfizerBio...</td>\n      <td>['coronavirus', 'SputnikV', 'AstraZeneca', 'Pf...</td>\n      <td>Twitter for Android</td>\n      <td>0</td>\n      <td>0</td>\n      <td>False</td>\n      <td>0.00</td>\n    </tr>\n    <tr>\n      <th>3</th>\n      <td>1337855739918835717</td>\n      <td>Charles Adler</td>\n      <td>Vancouver, BC - Canada</td>\n      <td>Hosting \"CharlesAdlerTonight\" Global News Radi...</td>\n      <td>2008-09-10 11:28:53</td>\n      <td>49165</td>\n      <td>3933</td>\n      <td>21853</td>\n      <td>True</td>\n      <td>2020-12-12 20:23:59</td>\n      <td>Facts are immutable, Senator, even when you're...</td>\n      <td>NaN</td>\n      <td>Twitter Web App</td>\n      <td>446</td>\n      <td>2129</td>\n      <td>False</td>\n      <td>-0.05</td>\n    </tr>\n    <tr>\n      <th>4</th>\n      <td>1337854064604966912</td>\n      <td>Citizen News Channel</td>\n      <td>NaN</td>\n      <td>Citizen News Channel bringing you an alternati...</td>\n      <td>2020-04-23 17:58:42</td>\n      <td>152</td>\n      <td>580</td>\n      <td>1473</td>\n      <td>False</td>\n      <td>2020-12-12 20:17:19</td>\n      <td>Explain to me again why we need a vaccine @Bor...</td>\n      <td>['whereareallthesickpeople', 'PfizerBioNTech']</td>\n      <td>Twitter for iPhone</td>\n      <td>0</td>\n      <td>0</td>\n      <td>False</td>\n      <td>0.00</td>\n    </tr>\n  </tbody>\n</table>\n</div>"
     },
     "execution_count": 17,
     "metadata": {},
     "output_type": "execute_result"
    }
   ]
  },
  {
   "cell_type": "code",
   "source": [
    "# Применение функции к столбцу 'sentiment' датасета для присвоения меток настроения\n",
    "tweets['sentiment_label'] = tweets['sentiment'].apply(get_sentiment_label)"
   ],
   "metadata": {
    "id": "_FA62fYp8Jwz",
    "executionInfo": {
     "status": "ok",
     "timestamp": 1680869053626,
     "user_tz": -180,
     "elapsed": 312,
     "user": {
      "displayName": "Петр Рубин",
      "userId": "04613233041024729335"
     }
    },
    "ExecuteTime": {
     "start_time": "2024-08-14T20:38:49.811853Z",
     "end_time": "2024-08-14T20:38:49.823014Z"
    }
   },
   "execution_count": 18,
   "outputs": []
  },
  {
   "cell_type": "code",
   "source": [
    "tweets.head()"
   ],
   "metadata": {
    "colab": {
     "base_uri": "https://localhost:8080/",
     "height": 565
    },
    "id": "rl7j6l878Rse",
    "executionInfo": {
     "status": "ok",
     "timestamp": 1680869056499,
     "user_tz": -180,
     "elapsed": 10,
     "user": {
      "displayName": "Петр Рубин",
      "userId": "04613233041024729335"
     }
    },
    "outputId": "93e62e02-f131-4dcb-af8b-0eb5334e198f",
    "ExecuteTime": {
     "start_time": "2024-08-14T20:38:51.969738Z",
     "end_time": "2024-08-14T20:38:51.985383Z"
    }
   },
   "execution_count": 19,
   "outputs": [
    {
     "data": {
      "text/plain": "                    id             user_name              user_location  \\\n0  1340539111971516416            Rachel Roh  La Crescenta-Montrose, CA   \n1  1338158543359250433           Albert Fong          San Francisco, CA   \n2  1337858199140118533              eli🇱🇹🇪🇺👌                   Your Bed   \n3  1337855739918835717         Charles Adler     Vancouver, BC - Canada   \n4  1337854064604966912  Citizen News Channel                        NaN   \n\n                                    user_description         user_created  \\\n0  Aggregator of Asian American news; scanning di...  2009-04-08 17:52:46   \n1  Marketing dude, tech geek, heavy metal & '80s ...  2009-09-21 15:27:30   \n2                                     heil, hydra 🖐☺  2020-06-25 23:30:28   \n3  Hosting \"CharlesAdlerTonight\" Global News Radi...  2008-09-10 11:28:53   \n4  Citizen News Channel bringing you an alternati...  2020-04-23 17:58:42   \n\n   user_followers  user_friends  user_favourites  user_verified  \\\n0             405          1692             3247          False   \n1             834           666              178          False   \n2              10            88              155          False   \n3           49165          3933            21853           True   \n4             152           580             1473          False   \n\n                  date                                               text  \\\n0  2020-12-20 06:06:44  Same folks said daikon paste could treat a cyt...   \n1  2020-12-13 16:27:13  While the world has been on the wrong side of ...   \n2  2020-12-12 20:33:45  #coronavirus #SputnikV #AstraZeneca #PfizerBio...   \n3  2020-12-12 20:23:59  Facts are immutable, Senator, even when you're...   \n4  2020-12-12 20:17:19  Explain to me again why we need a vaccine @Bor...   \n\n                                            hashtags               source  \\\n0                                 ['PfizerBioNTech']  Twitter for Android   \n1                                                NaN      Twitter Web App   \n2  ['coronavirus', 'SputnikV', 'AstraZeneca', 'Pf...  Twitter for Android   \n3                                                NaN      Twitter Web App   \n4     ['whereareallthesickpeople', 'PfizerBioNTech']   Twitter for iPhone   \n\n   retweets  favorites  is_retweet  sentiment sentiment_label  \n0         0          0       False       0.00         neutral  \n1         1          1       False      -0.50        negative  \n2         0          0       False       0.00         neutral  \n3       446       2129       False      -0.05        negative  \n4         0          0       False       0.00         neutral  ",
      "text/html": "<div>\n<style scoped>\n    .dataframe tbody tr th:only-of-type {\n        vertical-align: middle;\n    }\n\n    .dataframe tbody tr th {\n        vertical-align: top;\n    }\n\n    .dataframe thead th {\n        text-align: right;\n    }\n</style>\n<table border=\"1\" class=\"dataframe\">\n  <thead>\n    <tr style=\"text-align: right;\">\n      <th></th>\n      <th>id</th>\n      <th>user_name</th>\n      <th>user_location</th>\n      <th>user_description</th>\n      <th>user_created</th>\n      <th>user_followers</th>\n      <th>user_friends</th>\n      <th>user_favourites</th>\n      <th>user_verified</th>\n      <th>date</th>\n      <th>text</th>\n      <th>hashtags</th>\n      <th>source</th>\n      <th>retweets</th>\n      <th>favorites</th>\n      <th>is_retweet</th>\n      <th>sentiment</th>\n      <th>sentiment_label</th>\n    </tr>\n  </thead>\n  <tbody>\n    <tr>\n      <th>0</th>\n      <td>1340539111971516416</td>\n      <td>Rachel Roh</td>\n      <td>La Crescenta-Montrose, CA</td>\n      <td>Aggregator of Asian American news; scanning di...</td>\n      <td>2009-04-08 17:52:46</td>\n      <td>405</td>\n      <td>1692</td>\n      <td>3247</td>\n      <td>False</td>\n      <td>2020-12-20 06:06:44</td>\n      <td>Same folks said daikon paste could treat a cyt...</td>\n      <td>['PfizerBioNTech']</td>\n      <td>Twitter for Android</td>\n      <td>0</td>\n      <td>0</td>\n      <td>False</td>\n      <td>0.00</td>\n      <td>neutral</td>\n    </tr>\n    <tr>\n      <th>1</th>\n      <td>1338158543359250433</td>\n      <td>Albert Fong</td>\n      <td>San Francisco, CA</td>\n      <td>Marketing dude, tech geek, heavy metal &amp; '80s ...</td>\n      <td>2009-09-21 15:27:30</td>\n      <td>834</td>\n      <td>666</td>\n      <td>178</td>\n      <td>False</td>\n      <td>2020-12-13 16:27:13</td>\n      <td>While the world has been on the wrong side of ...</td>\n      <td>NaN</td>\n      <td>Twitter Web App</td>\n      <td>1</td>\n      <td>1</td>\n      <td>False</td>\n      <td>-0.50</td>\n      <td>negative</td>\n    </tr>\n    <tr>\n      <th>2</th>\n      <td>1337858199140118533</td>\n      <td>eli🇱🇹🇪🇺👌</td>\n      <td>Your Bed</td>\n      <td>heil, hydra 🖐☺</td>\n      <td>2020-06-25 23:30:28</td>\n      <td>10</td>\n      <td>88</td>\n      <td>155</td>\n      <td>False</td>\n      <td>2020-12-12 20:33:45</td>\n      <td>#coronavirus #SputnikV #AstraZeneca #PfizerBio...</td>\n      <td>['coronavirus', 'SputnikV', 'AstraZeneca', 'Pf...</td>\n      <td>Twitter for Android</td>\n      <td>0</td>\n      <td>0</td>\n      <td>False</td>\n      <td>0.00</td>\n      <td>neutral</td>\n    </tr>\n    <tr>\n      <th>3</th>\n      <td>1337855739918835717</td>\n      <td>Charles Adler</td>\n      <td>Vancouver, BC - Canada</td>\n      <td>Hosting \"CharlesAdlerTonight\" Global News Radi...</td>\n      <td>2008-09-10 11:28:53</td>\n      <td>49165</td>\n      <td>3933</td>\n      <td>21853</td>\n      <td>True</td>\n      <td>2020-12-12 20:23:59</td>\n      <td>Facts are immutable, Senator, even when you're...</td>\n      <td>NaN</td>\n      <td>Twitter Web App</td>\n      <td>446</td>\n      <td>2129</td>\n      <td>False</td>\n      <td>-0.05</td>\n      <td>negative</td>\n    </tr>\n    <tr>\n      <th>4</th>\n      <td>1337854064604966912</td>\n      <td>Citizen News Channel</td>\n      <td>NaN</td>\n      <td>Citizen News Channel bringing you an alternati...</td>\n      <td>2020-04-23 17:58:42</td>\n      <td>152</td>\n      <td>580</td>\n      <td>1473</td>\n      <td>False</td>\n      <td>2020-12-12 20:17:19</td>\n      <td>Explain to me again why we need a vaccine @Bor...</td>\n      <td>['whereareallthesickpeople', 'PfizerBioNTech']</td>\n      <td>Twitter for iPhone</td>\n      <td>0</td>\n      <td>0</td>\n      <td>False</td>\n      <td>0.00</td>\n      <td>neutral</td>\n    </tr>\n  </tbody>\n</table>\n</div>"
     },
     "execution_count": 19,
     "metadata": {},
     "output_type": "execute_result"
    }
   ]
  },
  {
   "cell_type": "code",
   "source": [
    "# Определение функции для присвоения метки на основе числового порога\n",
    "def get_category(value):\n",
    "    if value > 100000:\n",
    "        return 'high'\n",
    "    elif value < 5000:\n",
    "        return 'low'\n",
    "    else:\n",
    "        return 'medium'"
   ],
   "metadata": {
    "id": "bQjRc4zM_RZt",
    "executionInfo": {
     "status": "ok",
     "timestamp": 1680869117630,
     "user_tz": -180,
     "elapsed": 413,
     "user": {
      "displayName": "Петр Рубин",
      "userId": "04613233041024729335"
     }
    },
    "ExecuteTime": {
     "start_time": "2024-08-14T20:39:06.636657Z",
     "end_time": "2024-08-14T20:39:06.648243Z"
    }
   },
   "execution_count": 20,
   "outputs": []
  },
  {
   "cell_type": "code",
   "source": [
    "# Применение функции к столбцу данных\n",
    "tweets['follow_category'] = tweets['user_followers'].apply(get_category)"
   ],
   "metadata": {
    "id": "utPOmKuw_029",
    "executionInfo": {
     "status": "ok",
     "timestamp": 1680869124587,
     "user_tz": -180,
     "elapsed": 402,
     "user": {
      "displayName": "Петр Рубин",
      "userId": "04613233041024729335"
     }
    },
    "ExecuteTime": {
     "start_time": "2024-08-14T20:39:08.857048Z",
     "end_time": "2024-08-14T20:39:08.871510Z"
    }
   },
   "execution_count": 21,
   "outputs": []
  },
  {
   "cell_type": "code",
   "source": [
    "tweets.head()"
   ],
   "metadata": {
    "colab": {
     "base_uri": "https://localhost:8080/",
     "height": 565
    },
    "id": "nV36cyZiACHy",
    "executionInfo": {
     "status": "ok",
     "timestamp": 1680869126720,
     "user_tz": -180,
     "elapsed": 6,
     "user": {
      "displayName": "Петр Рубин",
      "userId": "04613233041024729335"
     }
    },
    "outputId": "9b908bf2-bebb-46b4-ce99-3903f65f58b6",
    "ExecuteTime": {
     "start_time": "2024-08-14T20:39:12.081668Z",
     "end_time": "2024-08-14T20:39:12.094651Z"
    }
   },
   "execution_count": 22,
   "outputs": [
    {
     "data": {
      "text/plain": "                    id             user_name              user_location  \\\n0  1340539111971516416            Rachel Roh  La Crescenta-Montrose, CA   \n1  1338158543359250433           Albert Fong          San Francisco, CA   \n2  1337858199140118533              eli🇱🇹🇪🇺👌                   Your Bed   \n3  1337855739918835717         Charles Adler     Vancouver, BC - Canada   \n4  1337854064604966912  Citizen News Channel                        NaN   \n\n                                    user_description         user_created  \\\n0  Aggregator of Asian American news; scanning di...  2009-04-08 17:52:46   \n1  Marketing dude, tech geek, heavy metal & '80s ...  2009-09-21 15:27:30   \n2                                     heil, hydra 🖐☺  2020-06-25 23:30:28   \n3  Hosting \"CharlesAdlerTonight\" Global News Radi...  2008-09-10 11:28:53   \n4  Citizen News Channel bringing you an alternati...  2020-04-23 17:58:42   \n\n   user_followers  user_friends  user_favourites  user_verified  \\\n0             405          1692             3247          False   \n1             834           666              178          False   \n2              10            88              155          False   \n3           49165          3933            21853           True   \n4             152           580             1473          False   \n\n                  date                                               text  \\\n0  2020-12-20 06:06:44  Same folks said daikon paste could treat a cyt...   \n1  2020-12-13 16:27:13  While the world has been on the wrong side of ...   \n2  2020-12-12 20:33:45  #coronavirus #SputnikV #AstraZeneca #PfizerBio...   \n3  2020-12-12 20:23:59  Facts are immutable, Senator, even when you're...   \n4  2020-12-12 20:17:19  Explain to me again why we need a vaccine @Bor...   \n\n                                            hashtags               source  \\\n0                                 ['PfizerBioNTech']  Twitter for Android   \n1                                                NaN      Twitter Web App   \n2  ['coronavirus', 'SputnikV', 'AstraZeneca', 'Pf...  Twitter for Android   \n3                                                NaN      Twitter Web App   \n4     ['whereareallthesickpeople', 'PfizerBioNTech']   Twitter for iPhone   \n\n   retweets  favorites  is_retweet  sentiment sentiment_label follow_category  \n0         0          0       False       0.00         neutral             low  \n1         1          1       False      -0.50        negative             low  \n2         0          0       False       0.00         neutral             low  \n3       446       2129       False      -0.05        negative          medium  \n4         0          0       False       0.00         neutral             low  ",
      "text/html": "<div>\n<style scoped>\n    .dataframe tbody tr th:only-of-type {\n        vertical-align: middle;\n    }\n\n    .dataframe tbody tr th {\n        vertical-align: top;\n    }\n\n    .dataframe thead th {\n        text-align: right;\n    }\n</style>\n<table border=\"1\" class=\"dataframe\">\n  <thead>\n    <tr style=\"text-align: right;\">\n      <th></th>\n      <th>id</th>\n      <th>user_name</th>\n      <th>user_location</th>\n      <th>user_description</th>\n      <th>user_created</th>\n      <th>user_followers</th>\n      <th>user_friends</th>\n      <th>user_favourites</th>\n      <th>user_verified</th>\n      <th>date</th>\n      <th>text</th>\n      <th>hashtags</th>\n      <th>source</th>\n      <th>retweets</th>\n      <th>favorites</th>\n      <th>is_retweet</th>\n      <th>sentiment</th>\n      <th>sentiment_label</th>\n      <th>follow_category</th>\n    </tr>\n  </thead>\n  <tbody>\n    <tr>\n      <th>0</th>\n      <td>1340539111971516416</td>\n      <td>Rachel Roh</td>\n      <td>La Crescenta-Montrose, CA</td>\n      <td>Aggregator of Asian American news; scanning di...</td>\n      <td>2009-04-08 17:52:46</td>\n      <td>405</td>\n      <td>1692</td>\n      <td>3247</td>\n      <td>False</td>\n      <td>2020-12-20 06:06:44</td>\n      <td>Same folks said daikon paste could treat a cyt...</td>\n      <td>['PfizerBioNTech']</td>\n      <td>Twitter for Android</td>\n      <td>0</td>\n      <td>0</td>\n      <td>False</td>\n      <td>0.00</td>\n      <td>neutral</td>\n      <td>low</td>\n    </tr>\n    <tr>\n      <th>1</th>\n      <td>1338158543359250433</td>\n      <td>Albert Fong</td>\n      <td>San Francisco, CA</td>\n      <td>Marketing dude, tech geek, heavy metal &amp; '80s ...</td>\n      <td>2009-09-21 15:27:30</td>\n      <td>834</td>\n      <td>666</td>\n      <td>178</td>\n      <td>False</td>\n      <td>2020-12-13 16:27:13</td>\n      <td>While the world has been on the wrong side of ...</td>\n      <td>NaN</td>\n      <td>Twitter Web App</td>\n      <td>1</td>\n      <td>1</td>\n      <td>False</td>\n      <td>-0.50</td>\n      <td>negative</td>\n      <td>low</td>\n    </tr>\n    <tr>\n      <th>2</th>\n      <td>1337858199140118533</td>\n      <td>eli🇱🇹🇪🇺👌</td>\n      <td>Your Bed</td>\n      <td>heil, hydra 🖐☺</td>\n      <td>2020-06-25 23:30:28</td>\n      <td>10</td>\n      <td>88</td>\n      <td>155</td>\n      <td>False</td>\n      <td>2020-12-12 20:33:45</td>\n      <td>#coronavirus #SputnikV #AstraZeneca #PfizerBio...</td>\n      <td>['coronavirus', 'SputnikV', 'AstraZeneca', 'Pf...</td>\n      <td>Twitter for Android</td>\n      <td>0</td>\n      <td>0</td>\n      <td>False</td>\n      <td>0.00</td>\n      <td>neutral</td>\n      <td>low</td>\n    </tr>\n    <tr>\n      <th>3</th>\n      <td>1337855739918835717</td>\n      <td>Charles Adler</td>\n      <td>Vancouver, BC - Canada</td>\n      <td>Hosting \"CharlesAdlerTonight\" Global News Radi...</td>\n      <td>2008-09-10 11:28:53</td>\n      <td>49165</td>\n      <td>3933</td>\n      <td>21853</td>\n      <td>True</td>\n      <td>2020-12-12 20:23:59</td>\n      <td>Facts are immutable, Senator, even when you're...</td>\n      <td>NaN</td>\n      <td>Twitter Web App</td>\n      <td>446</td>\n      <td>2129</td>\n      <td>False</td>\n      <td>-0.05</td>\n      <td>negative</td>\n      <td>medium</td>\n    </tr>\n    <tr>\n      <th>4</th>\n      <td>1337854064604966912</td>\n      <td>Citizen News Channel</td>\n      <td>NaN</td>\n      <td>Citizen News Channel bringing you an alternati...</td>\n      <td>2020-04-23 17:58:42</td>\n      <td>152</td>\n      <td>580</td>\n      <td>1473</td>\n      <td>False</td>\n      <td>2020-12-12 20:17:19</td>\n      <td>Explain to me again why we need a vaccine @Bor...</td>\n      <td>['whereareallthesickpeople', 'PfizerBioNTech']</td>\n      <td>Twitter for iPhone</td>\n      <td>0</td>\n      <td>0</td>\n      <td>False</td>\n      <td>0.00</td>\n      <td>neutral</td>\n      <td>low</td>\n    </tr>\n  </tbody>\n</table>\n</div>"
     },
     "execution_count": 22,
     "metadata": {},
     "output_type": "execute_result"
    }
   ]
  },
  {
   "cell_type": "code",
   "source": [
    "tweets['follow_category'].hist()"
   ],
   "metadata": {
    "colab": {
     "base_uri": "https://localhost:8080/",
     "height": 448
    },
    "id": "9w976LxVAIyn",
    "executionInfo": {
     "status": "ok",
     "timestamp": 1680869148385,
     "user_tz": -180,
     "elapsed": 1320,
     "user": {
      "displayName": "Петр Рубин",
      "userId": "04613233041024729335"
     }
    },
    "outputId": "47f09a3d-e141-4b51-b95e-dd3099410421",
    "ExecuteTime": {
     "start_time": "2024-08-14T20:39:20.197067Z",
     "end_time": "2024-08-14T20:39:20.792502Z"
    }
   },
   "execution_count": 23,
   "outputs": [
    {
     "data": {
      "text/plain": "<Axes: >"
     },
     "execution_count": 23,
     "metadata": {},
     "output_type": "execute_result"
    },
    {
     "data": {
      "text/plain": "<Figure size 640x480 with 1 Axes>",
      "image/png": "[encoded data removed]"
     },
     "metadata": {},
     "output_type": "display_data"
    }
   ]
  },
  {
   "cell_type": "markdown",
   "source": [
    "# Разметка данных с использованием активного обучения"
   ],
   "metadata": {
    "id": "e-tJ8h6kI1sn"
   }
  },
  {
   "cell_type": "code",
   "source": [
    "from sklearn.feature_extraction.text import TfidfVectorizer\n",
    "from sklearn.linear_model import LogisticRegression\n",
    "from sklearn.model_selection import train_test_split\n",
    "from sklearn.metrics import f1_score\n",
    "from sklearn.utils import shuffle"
   ],
   "metadata": {
    "id": "sgy4KJGoAOTU",
    "executionInfo": {
     "status": "ok",
     "timestamp": 1680869968539,
     "user_tz": -180,
     "elapsed": 318,
     "user": {
      "displayName": "Петр Рубин",
      "userId": "04613233041024729335"
     }
    },
    "ExecuteTime": {
     "start_time": "2024-08-14T20:42:49.657612Z",
     "end_time": "2024-08-14T20:42:49.671701Z"
    }
   },
   "execution_count": 24,
   "outputs": []
  },
  {
   "cell_type": "code",
   "source": [
    "# Загрузка датасета рецензий на фильмы\n",
    "reviews = pd.read_csv('movie.csv', engine='python')"
   ],
   "metadata": {
    "colab": {
     "base_uri": "https://localhost:8080/"
    },
    "id": "Yt72NMmaI--5",
    "executionInfo": {
     "status": "ok",
     "timestamp": 1680869985932,
     "user_tz": -180,
     "elapsed": 481,
     "user": {
      "displayName": "Петр Рубин",
      "userId": "04613233041024729335"
     }
    },
    "outputId": "b5b24ef3-1c4e-4d9e-ff10-10b75a26b9d7",
    "ExecuteTime": {
     "start_time": "2024-08-14T20:44:28.308237Z",
     "end_time": "2024-08-14T20:44:28.966683Z"
    }
   },
   "execution_count": 26,
   "outputs": []
  },
  {
   "cell_type": "code",
   "source": [
    "reviews.head()"
   ],
   "metadata": {
    "colab": {
     "base_uri": "https://localhost:8080/",
     "height": 206
    },
    "id": "wV4WbPrfNTV8",
    "executionInfo": {
     "status": "ok",
     "timestamp": 1680870065619,
     "user_tz": -180,
     "elapsed": 549,
     "user": {
      "displayName": "Петр Рубин",
      "userId": "04613233041024729335"
     }
    },
    "outputId": "74203aa3-a239-4249-d3ba-068c4aa2f793",
    "ExecuteTime": {
     "start_time": "2024-08-14T20:44:31.356422Z",
     "end_time": "2024-08-14T20:44:31.368720Z"
    }
   },
   "execution_count": 27,
   "outputs": [
    {
     "data": {
      "text/plain": "                                                text  label\n0  I grew up (b. 1965) watching and loving the Th...      0\n1  When I put this movie in my DVD player, and sa...      0\n2  Why do people who do not know what a particula...      0\n3  Even though I have great interest in Biblical ...      0\n4  Im a die hard Dads Army fan and nothing will e...      1",
      "text/html": "<div>\n<style scoped>\n    .dataframe tbody tr th:only-of-type {\n        vertical-align: middle;\n    }\n\n    .dataframe tbody tr th {\n        vertical-align: top;\n    }\n\n    .dataframe thead th {\n        text-align: right;\n    }\n</style>\n<table border=\"1\" class=\"dataframe\">\n  <thead>\n    <tr style=\"text-align: right;\">\n      <th></th>\n      <th>text</th>\n      <th>label</th>\n    </tr>\n  </thead>\n  <tbody>\n    <tr>\n      <th>0</th>\n      <td>I grew up (b. 1965) watching and loving the Th...</td>\n      <td>0</td>\n    </tr>\n    <tr>\n      <th>1</th>\n      <td>When I put this movie in my DVD player, and sa...</td>\n      <td>0</td>\n    </tr>\n    <tr>\n      <th>2</th>\n      <td>Why do people who do not know what a particula...</td>\n      <td>0</td>\n    </tr>\n    <tr>\n      <th>3</th>\n      <td>Even though I have great interest in Biblical ...</td>\n      <td>0</td>\n    </tr>\n    <tr>\n      <th>4</th>\n      <td>Im a die hard Dads Army fan and nothing will e...</td>\n      <td>1</td>\n    </tr>\n  </tbody>\n</table>\n</div>"
     },
     "execution_count": 27,
     "metadata": {},
     "output_type": "execute_result"
    }
   ]
  },
  {
   "cell_type": "code",
   "source": [
    "# Замена 'neg' на 0 и 'pos' на 1\n",
    "reviews['label'] = reviews['label'].replace({'neg': 0, 'pos': 1})"
   ],
   "metadata": {
    "id": "W7aWvjYLACnN",
    "executionInfo": {
     "status": "ok",
     "timestamp": 1680870113612,
     "user_tz": -180,
     "elapsed": 402,
     "user": {
      "displayName": "Петр Рубин",
      "userId": "04613233041024729335"
     }
    },
    "ExecuteTime": {
     "start_time": "2024-08-14T20:46:20.918465Z",
     "end_time": "2024-08-14T20:46:20.933013Z"
    }
   },
   "execution_count": 30,
   "outputs": []
  },
  {
   "cell_type": "code",
   "source": [
    "reviews['label'].hist()"
   ],
   "metadata": {
    "colab": {
     "base_uri": "https://localhost:8080/",
     "height": 448
    },
    "id": "VU6Bc5S_NY9T",
    "executionInfo": {
     "status": "ok",
     "timestamp": 1680870123456,
     "user_tz": -180,
     "elapsed": 418,
     "user": {
      "displayName": "Петр Рубин",
      "userId": "04613233041024729335"
     }
    },
    "outputId": "7dc6a15b-96c1-409c-e155-22619ff65aa3",
    "ExecuteTime": {
     "start_time": "2024-08-14T20:46:25.307571Z",
     "end_time": "2024-08-14T20:46:25.402717Z"
    }
   },
   "execution_count": 31,
   "outputs": [
    {
     "data": {
      "text/plain": "<Axes: >"
     },
     "execution_count": 31,
     "metadata": {},
     "output_type": "execute_result"
    },
    {
     "data": {
      "text/plain": "<Figure size 640x480 with 1 Axes>",
      "image/png": "[encoded data removed]"
     },
     "metadata": {},
     "output_type": "display_data"
    }
   ]
  },
  {
   "cell_type": "code",
   "source": [
    "# Перемешивание данных\n",
    "reviews = shuffle(reviews)"
   ],
   "metadata": {
    "id": "GbEHZsGTJago",
    "executionInfo": {
     "status": "ok",
     "timestamp": 1680870141108,
     "user_tz": -180,
     "elapsed": 364,
     "user": {
      "displayName": "Петр Рубин",
      "userId": "04613233041024729335"
     }
    },
    "ExecuteTime": {
     "start_time": "2024-08-14T20:46:31.796354Z",
     "end_time": "2024-08-14T20:46:31.811519Z"
    }
   },
   "execution_count": 32,
   "outputs": []
  },
  {
   "cell_type": "code",
   "source": [
    "# Разделение датасета на размеченную и неразмеченную выборки\n",
    "labeled_reviews, unlabeled_reviews = train_test_split(reviews, train_size=0.2, random_state=42)"
   ],
   "metadata": {
    "id": "XEUdtAgwJepG",
    "executionInfo": {
     "status": "ok",
     "timestamp": 1680870195636,
     "user_tz": -180,
     "elapsed": 4,
     "user": {
      "displayName": "Петр Рубин",
      "userId": "04613233041024729335"
     }
    },
    "ExecuteTime": {
     "start_time": "2024-08-14T20:46:46.295907Z",
     "end_time": "2024-08-14T20:46:46.308561Z"
    }
   },
   "execution_count": 33,
   "outputs": []
  },
  {
   "cell_type": "code",
   "source": [
    "labeled_reviews.head()"
   ],
   "metadata": {
    "colab": {
     "base_uri": "https://localhost:8080/",
     "height": 206
    },
    "id": "wIezTtRPOGvz",
    "executionInfo": {
     "status": "ok",
     "timestamp": 1680870198536,
     "user_tz": -180,
     "elapsed": 327,
     "user": {
      "displayName": "Петр Рубин",
      "userId": "04613233041024729335"
     }
    },
    "outputId": "615c0bee-97cf-4351-8bed-435240babf4e",
    "ExecuteTime": {
     "start_time": "2024-08-14T20:46:48.322088Z",
     "end_time": "2024-08-14T20:46:48.334009Z"
    }
   },
   "execution_count": 34,
   "outputs": [
    {
     "data": {
      "text/plain": "                                                    text  label\n19232  *Hannibal SPOILERS* Hannibal Lecter (Anthony H...      0\n5251   In the same way Lamberto Bava was a substandar...      0\n3841   I was reviewing some old VHS tapes I have and ...      1\n19795  'Stanley and Iris' show the triumph of the hum...      1\n28309  I think I will make a movie next weekend. Oh w...      0",
      "text/html": "<div>\n<style scoped>\n    .dataframe tbody tr th:only-of-type {\n        vertical-align: middle;\n    }\n\n    .dataframe tbody tr th {\n        vertical-align: top;\n    }\n\n    .dataframe thead th {\n        text-align: right;\n    }\n</style>\n<table border=\"1\" class=\"dataframe\">\n  <thead>\n    <tr style=\"text-align: right;\">\n      <th></th>\n      <th>text</th>\n      <th>label</th>\n    </tr>\n  </thead>\n  <tbody>\n    <tr>\n      <th>19232</th>\n      <td>*Hannibal SPOILERS* Hannibal Lecter (Anthony H...</td>\n      <td>0</td>\n    </tr>\n    <tr>\n      <th>5251</th>\n      <td>In the same way Lamberto Bava was a substandar...</td>\n      <td>0</td>\n    </tr>\n    <tr>\n      <th>3841</th>\n      <td>I was reviewing some old VHS tapes I have and ...</td>\n      <td>1</td>\n    </tr>\n    <tr>\n      <th>19795</th>\n      <td>'Stanley and Iris' show the triumph of the hum...</td>\n      <td>1</td>\n    </tr>\n    <tr>\n      <th>28309</th>\n      <td>I think I will make a movie next weekend. Oh w...</td>\n      <td>0</td>\n    </tr>\n  </tbody>\n</table>\n</div>"
     },
     "execution_count": 34,
     "metadata": {},
     "output_type": "execute_result"
    }
   ]
  },
  {
   "cell_type": "code",
   "source": [
    "unlabeled_reviews.head()"
   ],
   "metadata": {
    "colab": {
     "base_uri": "https://localhost:8080/",
     "height": 206
    },
    "id": "lUsbEsawOJJy",
    "executionInfo": {
     "status": "ok",
     "timestamp": 1680870200549,
     "user_tz": -180,
     "elapsed": 8,
     "user": {
      "displayName": "Петр Рубин",
      "userId": "04613233041024729335"
     }
    },
    "outputId": "eb21d398-5754-49c5-a865-beb2fd693663",
    "ExecuteTime": {
     "start_time": "2024-08-14T20:46:51.134252Z",
     "end_time": "2024-08-14T20:46:51.147632Z"
    }
   },
   "execution_count": 35,
   "outputs": [
    {
     "data": {
      "text/plain": "                                                    text  label\n1963   One more of extremely unprofessional movies ab...      0\n15362  There could be some SPOILERS AHEAD but I doubt...      0\n8919   I have begun to melt so I will make this revie...      0\n10042  First off to get my own personal feelings out ...      0\n1038   I only watched the first twenty minutes of thi...      0",
      "text/html": "<div>\n<style scoped>\n    .dataframe tbody tr th:only-of-type {\n        vertical-align: middle;\n    }\n\n    .dataframe tbody tr th {\n        vertical-align: top;\n    }\n\n    .dataframe thead th {\n        text-align: right;\n    }\n</style>\n<table border=\"1\" class=\"dataframe\">\n  <thead>\n    <tr style=\"text-align: right;\">\n      <th></th>\n      <th>text</th>\n      <th>label</th>\n    </tr>\n  </thead>\n  <tbody>\n    <tr>\n      <th>1963</th>\n      <td>One more of extremely unprofessional movies ab...</td>\n      <td>0</td>\n    </tr>\n    <tr>\n      <th>15362</th>\n      <td>There could be some SPOILERS AHEAD but I doubt...</td>\n      <td>0</td>\n    </tr>\n    <tr>\n      <th>8919</th>\n      <td>I have begun to melt so I will make this revie...</td>\n      <td>0</td>\n    </tr>\n    <tr>\n      <th>10042</th>\n      <td>First off to get my own personal feelings out ...</td>\n      <td>0</td>\n    </tr>\n    <tr>\n      <th>1038</th>\n      <td>I only watched the first twenty minutes of thi...</td>\n      <td>0</td>\n    </tr>\n  </tbody>\n</table>\n</div>"
     },
     "execution_count": 35,
     "metadata": {},
     "output_type": "execute_result"
    }
   ]
  },
  {
   "cell_type": "code",
   "source": [
    "# Определение функции для обучения модели логистической регрессии на размеченных данных\n",
    "def train_model(labeled_reviews):\n",
    "    # Векторизация текстовых данных с помощью TF-IDF\n",
    "    vectorizer = TfidfVectorizer()\n",
    "    X = vectorizer.fit_transform(labeled_reviews['text'])\n",
    "    y = labeled_reviews['label']\n",
    "\n",
    "    # Обучение модели логистической регрессии на размеченных данных\n",
    "    model = LogisticRegression()\n",
    "    model.fit(X, y)\n",
    "\n",
    "    return model, vectorizer"
   ],
   "metadata": {
    "id": "JxOrlWJTJi8x",
    "executionInfo": {
     "status": "ok",
     "timestamp": 1680870391999,
     "user_tz": -180,
     "elapsed": 1071,
     "user": {
      "displayName": "Петр Рубин",
      "userId": "04613233041024729335"
     }
    },
    "ExecuteTime": {
     "start_time": "2024-08-14T20:48:56.124041Z",
     "end_time": "2024-08-14T20:48:56.147012Z"
    }
   },
   "execution_count": 39,
   "outputs": []
  },
  {
   "cell_type": "code",
   "source": [
    "# Обучение начальной модели на небольшом наборе \n",
    "model, vectorizer = train_model(labeled_reviews)"
   ],
   "metadata": {
    "id": "hXLmGlsbJpKt",
    "executionInfo": {
     "status": "ok",
     "timestamp": 1680870419689,
     "user_tz": -180,
     "elapsed": 4048,
     "user": {
      "displayName": "Петр Рубин",
      "userId": "04613233041024729335"
     }
    },
    "ExecuteTime": {
     "start_time": "2024-08-14T20:48:58.351634Z",
     "end_time": "2024-08-14T20:48:59.679072Z"
    }
   },
   "execution_count": 40,
   "outputs": []
  },
  {
   "cell_type": "code",
   "source": [
    "# Использование исходной модели для прогнозирования настроения неразмеченных данных\n",
    "X_unlabeled = vectorizer.transform(unlabeled_reviews['text'])\n",
    "y_unlabeled_predicted = model.predict(X_unlabeled)"
   ],
   "metadata": {
    "id": "96wrHUKLJp6F",
    "executionInfo": {
     "status": "ok",
     "timestamp": 1680870450813,
     "user_tz": -180,
     "elapsed": 3779,
     "user": {
      "displayName": "Петр Рубин",
      "userId": "04613233041024729335"
     }
    },
    "ExecuteTime": {
     "start_time": "2024-08-14T20:49:03.969776Z",
     "end_time": "2024-08-14T20:49:07.617486Z"
    }
   },
   "execution_count": 41,
   "outputs": []
  },
  {
   "cell_type": "code",
   "source": [
    "# Вычислить неопределенности или энтропии предсказаний\n",
    "y_unlabeled_proba = model.predict_proba(X_unlabeled)\n",
    "uncertainty = -(y_unlabeled_proba * np.log2(y_unlabeled_proba)).sum(axis=1)"
   ],
   "metadata": {
    "id": "DGJlv9bKJsgH",
    "executionInfo": {
     "status": "ok",
     "timestamp": 1680870528128,
     "user_tz": -180,
     "elapsed": 314,
     "user": {
      "displayName": "Петр Рубин",
      "userId": "04613233041024729335"
     }
    },
    "ExecuteTime": {
     "start_time": "2024-08-14T20:49:18.747221Z",
     "end_time": "2024-08-14T20:49:18.772865Z"
    }
   },
   "execution_count": 42,
   "outputs": []
  },
  {
   "cell_type": "code",
   "source": [
    "# Выбор 100 наиболее неопределенных точек данных для маркировки человеком\n",
    "labeled_reviews_new = unlabeled_reviews.iloc[uncertainty.argsort()[:100]]\n",
    "unlabeled_reviews_new = unlabeled_reviews.iloc[uncertainty.argsort()[100:]]"
   ],
   "metadata": {
    "id": "H5UaovJVJv1u",
    "executionInfo": {
     "status": "ok",
     "timestamp": 1680870560814,
     "user_tz": -180,
     "elapsed": 454,
     "user": {
      "displayName": "Петр Рубин",
      "userId": "04613233041024729335"
     }
    },
    "ExecuteTime": {
     "start_time": "2024-08-14T20:49:22.667795Z",
     "end_time": "2024-08-14T20:49:22.679609Z"
    }
   },
   "execution_count": 43,
   "outputs": []
  },
  {
   "cell_type": "code",
   "source": [
    "# Разметка новых точек данных и добавление их к размеченному множеству\n",
    "labeled_reviews = pd.concat([labeled_reviews, labeled_reviews_new])"
   ],
   "metadata": {
    "id": "hRr0pr48JzUs",
    "executionInfo": {
     "status": "ok",
     "timestamp": 1680870583728,
     "user_tz": -180,
     "elapsed": 302,
     "user": {
      "displayName": "Петр Рубин",
      "userId": "04613233041024729335"
     }
    },
    "ExecuteTime": {
     "start_time": "2024-08-14T20:49:52.242573Z",
     "end_time": "2024-08-14T20:49:52.253325Z"
    }
   },
   "execution_count": 44,
   "outputs": []
  },
  {
   "cell_type": "code",
   "source": [
    "# Переобучение модели на расширенном маркированном множестве\n",
    "model, vectorizer = train_model(labeled_reviews)"
   ],
   "metadata": {
    "id": "swWUtERoJ2JB",
    "executionInfo": {
     "status": "ok",
     "timestamp": 1680870594847,
     "user_tz": -180,
     "elapsed": 1469,
     "user": {
      "displayName": "Петр Рубин",
      "userId": "04613233041024729335"
     }
    },
    "ExecuteTime": {
     "start_time": "2024-08-14T20:49:54.863055Z",
     "end_time": "2024-08-14T20:49:56.197764Z"
    }
   },
   "execution_count": 45,
   "outputs": []
  },
  {
   "cell_type": "code",
   "source": [
    "reviews_test = pd.read_csv('movie.csv', engine='python')"
   ],
   "metadata": {
    "colab": {
     "base_uri": "https://localhost:8080/"
    },
    "id": "Gv4mfuXkO5fE",
    "executionInfo": {
     "status": "ok",
     "timestamp": 1680870608456,
     "user_tz": -180,
     "elapsed": 1505,
     "user": {
      "displayName": "Петр Рубин",
      "userId": "04613233041024729335"
     }
    },
    "outputId": "168ed38b-e52d-4185-da64-d4c8fe2a761b",
    "ExecuteTime": {
     "start_time": "2024-08-14T20:51:06.678647Z",
     "end_time": "2024-08-14T20:51:07.439333Z"
    }
   },
   "execution_count": 46,
   "outputs": []
  },
  {
   "cell_type": "code",
   "source": [
    "# Оценка модели на тестовом датасете\n",
    "X_test = vectorizer.transform(reviews_test['text'])\n",
    "y_test_predicted = model.predict(X_test)\n",
    "f1 = f1_score(reviews_test['label'], y_test_predicted)\n",
    "\n",
    "print(f1)"
   ],
   "metadata": {
    "colab": {
     "base_uri": "https://localhost:8080/"
    },
    "id": "CK6cirtPJ5Qm",
    "executionInfo": {
     "status": "ok",
     "timestamp": 1680870630597,
     "user_tz": -180,
     "elapsed": 5692,
     "user": {
      "displayName": "Петр Рубин",
      "userId": "04613233041024729335"
     }
    },
    "outputId": "b268a442-807a-406a-bd69-7c2cd1135f51",
    "ExecuteTime": {
     "start_time": "2024-08-14T20:51:21.630884Z",
     "end_time": "2024-08-14T20:51:25.760000Z"
    }
   },
   "execution_count": 47,
   "outputs": [
    {
     "name": "stdout",
     "output_type": "stream",
     "text": [
      "0.8844925347265209\n"
     ]
    }
   ]
  }
 ]
}
